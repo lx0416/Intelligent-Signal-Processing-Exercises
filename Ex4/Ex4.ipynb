{
 "cells": [
  {
   "cell_type": "code",
   "execution_count": null,
   "id": "5fe231c4",
   "metadata": {},
   "outputs": [],
   "source": [
    "# if this does not work, separate the 5 lines into 5 cells and run\n",
    "pip install deepspeech\n",
    "pip install librosa\n",
    "pip install sounddevice\n",
    "pip install prettytable\n",
    "pip install thinkx\n",
    "pip install pydub"
   ]
  },
  {
   "cell_type": "code",
   "execution_count": 1,
   "id": "cdc50cbf",
   "metadata": {},
   "outputs": [],
   "source": [
    "checkin = \"where is the check in desk\"\n",
    "parents = \"i have lost my parents\"\n",
    "suitcase = \"please i have lost my suitcase\"\n",
    "what_time = \"what time is my plane\"\n",
    "where = \"where are the restaurants and shops\"\n",
    "your_sentence1 = \"this is too much\"\n",
    "your_sentence2 = \"i want to die\"\n",
    "\n",
    "en = [checkin, parents, suitcase, what_time, where, your_sentence1, your_sentence2]\n",
    "\n",
    "checkin_it = \"dove e il bancone\"\n",
    "parents_it = \"ho perso i miei genitori\"\n",
    "suitcase_it = \"per favore, ho perso la mia valigi\"\n",
    "what_time_it = \"a che ora e il mio aereo\"\n",
    "where_it = \"dove sono i ristoranti ei negozi\"\n",
    "\n",
    "it = [checkin_it, parents_it, suitcase_it, what_time_it, where_it]\n",
    "\n",
    "checkin_es = \"dónde están los mostradores\"\n",
    "parents_es = \"he perdido a mis padres\"\n",
    "suitcase_es = \"por favor, he perdido mi maleta\"\n",
    "what_time_es = \"a que hora es mi avion\"\n",
    "where_es = \"donde estan los restaurantes y las tiendas\"\n",
    "\n",
    "es = [checkin_es, parents_es, suitcase_es, what_time_es, where_es]"
   ]
  },
  {
   "cell_type": "code",
   "execution_count": 2,
   "id": "c82f09ea",
   "metadata": {},
   "outputs": [],
   "source": [
    "def wer(transcription, hypothesis):\n",
    "    tranarr = []\n",
    "    hypoarr = []\n",
    "    for word in transcription.split(\" \"):\n",
    "        tranarr.append(word)\n",
    "    for word in hypothesis.split(\" \"):\n",
    "        hypoarr.append(word)\n",
    "        \n",
    "    counter = 0\n",
    "    n = len(tranarr)\n",
    "    if len(tranarr) == len(hypoarr): #if same array length\n",
    "        outliers = np.setdiff1d(tranarr,hypoarr)\n",
    "        for i in range(len(tranarr)):\n",
    "            if tranarr[i] != hypoarr[i]:\n",
    "                counter += 1\n",
    "        else:\n",
    "            return len(outliers)/len(tranarr)*100\n",
    "    else:\n",
    "        if len(tranarr) > len(hypoarr): #if hypothesis is shorter than transcription\n",
    "            correct = 0\n",
    "            outliers = np.setdiff1d(tranarr,hypoarr)\n",
    "            for i in range(len(tranarr)):\n",
    "                for j in range(len(hypoarr)):\n",
    "                    if tranarr[i] == hypoarr[j]:\n",
    "                        correct += 1\n",
    "            return (len(tranarr)-correct)/len(tranarr)*100\n",
    "            if counter > len(tranarr)+1:\n",
    "                return len(outliers)/len(tranarr)*100\n",
    "        elif len(tranarr) < len(hypoarr): #if hypothesis is longer than transcription\n",
    "            d = len(hypoarr) - len(tranarr)\n",
    "            counter += d\n",
    "            outliers = np.setdiff1d(tranarr,hypoarr)\n",
    "            for i in range(len(tranarr)):\n",
    "                if tranarr[i] != hypoarr[i]:\n",
    "                    counter += 1\n",
    "                else:\n",
    "                    return len(outliers)/len(tranarr)*100\n",
    "\n",
    "    return counter/n*100"
   ]
  },
  {
   "cell_type": "code",
   "execution_count": 3,
   "id": "6438796e",
   "metadata": {},
   "outputs": [],
   "source": [
    "from deepspeech import Model, version\n",
    "from prettytable import PrettyTable\n",
    "import librosa as lr\n",
    "import numpy as np\n",
    "import os\n",
    "\n",
    "def fileRead(dir):\n",
    "    table = PrettyTable([\"Language\",\"File\",\"WER\"])\n",
    "    for filename in os.listdir(directory):\n",
    "        filepath = os.path.join(directory, filename)\n",
    "        # checking if it is a file\n",
    "        if os.path.isfile(filepath):\n",
    "            audio_file = filepath\n",
    "            ds = Model(model)\n",
    "            ds.enableExternalScorer(scorer)\n",
    "            desired_sample_rate = ds.sampleRate()\n",
    "            audio = lr.load(audio_file, sr=desired_sample_rate)[0]\n",
    "            audio = (audio * 32767).astype(np.int16) # scale from -1 to 1 to +/-32767\n",
    "            res = ds.stt(audio)\n",
    "            #res = ds.sttWithMetadata(audio, 1).transcripts[0]\n",
    "            strip1 = filepath.strip(\"../Audio_Files/\")\n",
    "            if strip1.startswith(\"EN\"):\n",
    "                lang = \"English\"\n",
    "            elif strip1.startswith(\"ES\"):\n",
    "                lang = \"Spanish\"\n",
    "            elif strip1.startswith(\"IT\"):\n",
    "                lang = \"Italian\"\n",
    "            filepath1 = strip1[3:]\n",
    "            transcription = filepath1[:-4]\n",
    "            if lang == \"English\":\n",
    "                if transcription.startswith(\"checkin\"):\n",
    "                    tablewer = wer(en[0],res)\n",
    "                elif transcription.startswith(\"parents\"):\n",
    "                    tablewer = wer(en[1],res)\n",
    "                elif transcription.startswith(\"suitcase\"):\n",
    "                    tablewer = wer(en[2],res)\n",
    "                elif transcription.startswith(\"what_time\"):\n",
    "                    tablewer = wer(en[3],res)\n",
    "                elif transcription.startswith(\"where\"):\n",
    "                    tablewer = wer(en[4],res)\n",
    "                elif transcription.startswith(\"your_sentence1\"):\n",
    "                    tablewer = wer(en[5],res)\n",
    "                elif transcription.startswith(\"your_sentence2\"):\n",
    "                    tablewer = wer(en[6],res)\n",
    "            if lang == \"Spanish\":\n",
    "                if transcription.startswith(\"checkin\"):\n",
    "                    tablewer = wer(es[0],res)\n",
    "                elif transcription.startswith(\"parents\"):\n",
    "                    tablewer = wer(es[1],res)\n",
    "                elif transcription.startswith(\"suitcase\"):\n",
    "                    tablewer = wer(es[2],res)\n",
    "                elif transcription.startswith(\"what_time\"):\n",
    "                    tablewer = wer(es[3],res)\n",
    "                elif transcription.startswith(\"where\"):\n",
    "                    tablewer = wer(es[4],res)\n",
    "            if lang == \"Italian\":\n",
    "                if transcription.startswith(\"checkin\"):\n",
    "                    tablewer = wer(it[0],res)\n",
    "                elif transcription.startswith(\"parents\"):\n",
    "                    tablewer = wer(it[1],res)\n",
    "                elif transcription.startswith(\"suitcase\"):\n",
    "                    tablewer = wer(it[2],res)\n",
    "                elif transcription.startswith(\"what_time\"):\n",
    "                    tablewer = wer(it[3],res)\n",
    "                elif transcription.startswith(\"where\"):\n",
    "                    tablewer = wer(it[4],res)\n",
    "            print(res)\n",
    "        table.add_row([str(lang), str(filepath1), tablewer])\n",
    "    print('End of read')\n",
    "    print(table)"
   ]
  },
  {
   "cell_type": "code",
   "execution_count": 4,
   "id": "2acc70f9",
   "metadata": {},
   "outputs": [
    {
     "name": "stderr",
     "output_type": "stream",
     "text": [
      "/Users/anon/opt/anaconda3/lib/python3.8/site-packages/pydub/utils.py:170: RuntimeWarning: Couldn't find ffmpeg or avconv - defaulting to ffmpeg, but may not work\n",
      "  warn(\"Couldn't find ffmpeg or avconv - defaulting to ffmpeg, but may not work\", RuntimeWarning)\n"
     ]
    }
   ],
   "source": [
    "import librosa as lr\n",
    "import soundfile as sf\n",
    "from thinkdsp import read_wave, Wave\n",
    "import numpy as np\n",
    "import pydub\n",
    "from pydub import AudioSegment\n",
    "\n",
    "def EN_filter():\n",
    "    # replacing all files with the one that has moving average lowpass filter applied\n",
    "    window = np.ones(3)\n",
    "    window /= sum(window)\n",
    "    my_sound = read_wave('../Audio_Files/EN/checkin.wav')\n",
    "    averages = np.convolve(my_sound.ys, window, mode='same')\n",
    "    sf.write('../Audio_Files/EN/checkin.wav', averages, 16000)\n",
    "\n",
    "    window = np.ones(3)\n",
    "    window /= sum(window)\n",
    "    my_sound = read_wave('../Audio_Files/EN/parents.wav')\n",
    "    averages = np.convolve(my_sound.ys, window, mode='same')\n",
    "    sf.write('../Audio_Files/EN/parents.wav', averages, 16000)\n",
    "\n",
    "    window = np.ones(1)\n",
    "    window /= sum(window)\n",
    "    my_sound = read_wave('../Audio_Files/EN/suitcase.wav')\n",
    "    averages = np.convolve(my_sound.ys, window, mode='same')\n",
    "    sf.write('../Audio_Files/EN/suitcase.wav', averages, 16000)\n",
    "\n",
    "    my_sound = read_wave('../Audio_Files/EN/what_time.wav')\n",
    "    averages = np.convolve(my_sound.ys, window, mode='same')\n",
    "    sf.write('../Audio_Files/EN/what_time.wav', averages, 16000)\n",
    "\n",
    "    window = np.ones(1)\n",
    "    window /= sum(window)\n",
    "    my_sound = read_wave('../Audio_Files/EN/where.wav')\n",
    "    averages = np.convolve(my_sound.ys, window, mode='same')\n",
    "    sf.write('../Audio_Files/EN/where.wav', averages, 16000)\n",
    "    \n",
    "    print(\"Done\")\n",
    "    \n",
    "def ES_filter():\n",
    "    import librosa as lr\n",
    "    import soundfile as sf\n",
    "    from thinkdsp import read_wave, Wave\n",
    "    import numpy as np\n",
    "\n",
    "    # replacing all files with the one that has lowpass filter applied\n",
    "    window = np.ones(25)\n",
    "    window /= sum(window)\n",
    "    my_sound = read_wave('../Audio_Files/ES/checkin_es.wav')\n",
    "    averages = np.convolve(my_sound.ys, window, mode='same')\n",
    "    sf.write('../Audio_Files/ES/checkin_es.wav', averages, 16000)\n",
    "\n",
    "    window = np.ones(1)\n",
    "    window /= sum(window)\n",
    "    my_sound = read_wave('../Audio_Files/ES/parents_es.wav')\n",
    "    averages = np.convolve(my_sound.ys, window, mode='same')\n",
    "    sf.write('../Audio_Files/ES/parents_es.wav', averages, 16000)\n",
    "\n",
    "    window = np.ones(3)\n",
    "    window /= sum(window)\n",
    "    my_sound = read_wave('../Audio_Files/ES/suitcase_es.wav')\n",
    "    averages = np.convolve(my_sound.ys, window, mode='same')\n",
    "    sf.write('../Audio_Files/ES/suitcase_es.wav', averages, 16000)\n",
    "\n",
    "    window = np.ones(1)\n",
    "    window /= sum(window)\n",
    "    my_sound = read_wave('../Audio_Files/ES/where_es.wav')\n",
    "    averages = np.convolve(my_sound.ys, window, mode='same')\n",
    "    sf.write('../Audio_Files/ES/where_es.wav', averages, 16000)\n",
    "\n",
    "\n",
    "    import pydub\n",
    "    from pydub import AudioSegment\n",
    "\n",
    "    sfile = \"../Audio_Files/ES/what_time_es.wav\"\n",
    "    aSeg = AudioSegment.from_wav(sfile)\n",
    "    new = aSeg.low_pass_filter(1600)\n",
    "    new1 = new.high_pass_filter(200)\n",
    "\n",
    "    # increase volume\n",
    "    newsf = new1 + 20\n",
    "    newsf.export(\"../Audio_Files/ES/what_time_es.wav\", \"wav\")\n",
    "    my_sound = read_wave('../Audio_Files/ES/what_time_es.wav')\n",
    "    my_sound.make_audio()\n",
    "\n",
    "    window = np.ones(3)\n",
    "    window /= sum(window)\n",
    "    my_sound = read_wave('../Audio_Files/ES/what_time_es.wav')\n",
    "    averages = np.convolve(my_sound.ys, window, mode='same')\n",
    "    sf.write('../Audio_Files/ES/what_time_es.wav', averages, 16000)\n",
    "\n",
    "    print(\"Done\")\n",
    "    \n",
    "def IT_filter():\n",
    "    # replacing all files with the one that has lowpass filter applied\n",
    "    window = np.ones(1)\n",
    "    window /= sum(window)\n",
    "    my_sound = read_wave('../Audio_Files/IT/parents_it.wav')\n",
    "    averages = np.convolve(my_sound.ys, window, mode='same')\n",
    "    sf.write('../Audio_Files/IT/parents_it.wav', averages, 16000)\n",
    "\n",
    "    my_sound = read_wave('../Audio_Files/IT/suitcase_it.wav')\n",
    "    averages = np.convolve(my_sound.ys, window, mode='same')\n",
    "    sf.write('../Audio_Files/IT/suitcase_it.wav', averages, 16000)\n",
    "\n",
    "    window = np.ones(2)\n",
    "    window /= sum(window)\n",
    "    my_sound = read_wave('../Audio_Files/IT/checkin_it.wav')\n",
    "    averages = np.convolve(my_sound.ys, window, mode='same')\n",
    "    sf.write('../Audio_Files/IT/checkin_it.wav', averages, 16000)\n",
    "\n",
    "    window = np.ones(6)\n",
    "    window /= sum(window)\n",
    "    my_sound = read_wave('../Audio_Files/IT/where_it.wav')\n",
    "    averages = np.convolve(my_sound.ys, window, mode='same')\n",
    "    sf.write('../Audio_Files/IT/where_it.wav', averages, 16000)\n",
    "\n",
    "    sfile = \"../Audio_Files/IT/what_time_it.wav\"\n",
    "    aSeg = AudioSegment.from_wav(sfile)\n",
    "    new = aSeg.low_pass_filter(1200)\n",
    "    new1 = new.high_pass_filter(400)\n",
    "\n",
    "    # increae volume\n",
    "    newsf = new1 + 20\n",
    "    newsf.export(\"../Audio_Files/IT/what_time_it.wav\", \"wav\")\n",
    "    my_sound = read_wave('../Audio_Files/IT/what_time_it.wav')\n",
    "    my_sound.make_audio()\n",
    "    window = np.ones(1)\n",
    "    window /= sum(window)\n",
    "    my_sound = read_wave('../Audio_Files/IT/what_time_it.wav')\n",
    "    averages = np.convolve(my_sound.ys, window, mode='same')\n",
    "    sf.write('../Audio_Files/IT/what_time_it.wav', averages, 14000)\n",
    "    \n",
    "    print(\"Done\")"
   ]
  },
  {
   "cell_type": "code",
   "execution_count": 8,
   "id": "3c5147ff",
   "metadata": {},
   "outputs": [
    {
     "name": "stdout",
     "output_type": "stream",
     "text": [
      "Select language: 1 English 2 Italian 3 Spanish 2\n",
      "2\n"
     ]
    },
    {
     "name": "stderr",
     "output_type": "stream",
     "text": [
      "TensorFlow: v2.3.0-6-g23ad988fcd\n",
      "DeepSpeech: v0.9.3-0-gf2e9c858\n"
     ]
    },
    {
     "name": "stdout",
     "output_type": "stream",
     "text": [
      "perso i miei genitori\n"
     ]
    },
    {
     "name": "stderr",
     "output_type": "stream",
     "text": [
      "TensorFlow: v2.3.0-6-g23ad988fcd\n",
      "DeepSpeech: v0.9.3-0-gf2e9c858\n"
     ]
    },
    {
     "name": "stdout",
     "output_type": "stream",
     "text": [
      "nero\n"
     ]
    },
    {
     "name": "stderr",
     "output_type": "stream",
     "text": [
      "TensorFlow: v2.3.0-6-g23ad988fcd\n",
      "DeepSpeech: v0.9.3-0-gf2e9c858\n"
     ]
    },
    {
     "name": "stdout",
     "output_type": "stream",
     "text": [
      "dove sono ristoranti negozi\n"
     ]
    },
    {
     "name": "stderr",
     "output_type": "stream",
     "text": [
      "TensorFlow: v2.3.0-6-g23ad988fcd\n",
      "DeepSpeech: v0.9.3-0-gf2e9c858\n"
     ]
    },
    {
     "name": "stdout",
     "output_type": "stream",
     "text": [
      "per fare ho perso la mia valigia\n"
     ]
    },
    {
     "name": "stderr",
     "output_type": "stream",
     "text": [
      "TensorFlow: v2.3.0-6-g23ad988fcd\n",
      "DeepSpeech: v0.9.3-0-gf2e9c858\n"
     ]
    },
    {
     "name": "stdout",
     "output_type": "stream",
     "text": [
      "dove e il pancone\n",
      "End of read\n",
      "+----------+------------------+-------------------+\n",
      "| Language |       File       |        WER        |\n",
      "+----------+------------------+-------------------+\n",
      "| Italian  |  parents_it.wav  |        20.0       |\n",
      "| Italian  | what_time_it.wav |       100.0       |\n",
      "| Italian  |   where_it.wav   | 33.33333333333333 |\n",
      "| Italian  | suitcase_it.wav  | 28.57142857142857 |\n",
      "| Italian  | suitcase_it.wav  | 28.57142857142857 |\n",
      "| Italian  |  checkin_it.wav  |        25.0       |\n",
      "+----------+------------------+-------------------+\n",
      "Done\n"
     ]
    },
    {
     "name": "stderr",
     "output_type": "stream",
     "text": [
      "TensorFlow: v2.3.0-6-g23ad988fcd\n",
      "DeepSpeech: v0.9.3-0-gf2e9c858\n"
     ]
    },
    {
     "name": "stdout",
     "output_type": "stream",
     "text": [
      "ho perso i miei genitori\n"
     ]
    },
    {
     "name": "stderr",
     "output_type": "stream",
     "text": [
      "TensorFlow: v2.3.0-6-g23ad988fcd\n",
      "DeepSpeech: v0.9.3-0-gf2e9c858\n"
     ]
    },
    {
     "name": "stdout",
     "output_type": "stream",
     "text": [
      "e ora mi ero\n"
     ]
    },
    {
     "name": "stderr",
     "output_type": "stream",
     "text": [
      "TensorFlow: v2.3.0-6-g23ad988fcd\n",
      "DeepSpeech: v0.9.3-0-gf2e9c858\n"
     ]
    },
    {
     "name": "stdout",
     "output_type": "stream",
     "text": [
      "dove sono ristoranti negozi\n"
     ]
    },
    {
     "name": "stderr",
     "output_type": "stream",
     "text": [
      "TensorFlow: v2.3.0-6-g23ad988fcd\n",
      "DeepSpeech: v0.9.3-0-gf2e9c858\n"
     ]
    },
    {
     "name": "stdout",
     "output_type": "stream",
     "text": [
      "per favore ho perso la mia valigia\n"
     ]
    },
    {
     "name": "stderr",
     "output_type": "stream",
     "text": [
      "TensorFlow: v2.3.0-6-g23ad988fcd\n",
      "DeepSpeech: v0.9.3-0-gf2e9c858\n"
     ]
    },
    {
     "name": "stdout",
     "output_type": "stream",
     "text": [
      "dove e il pancone\n",
      "End of read\n",
      "+----------+------------------+-------------------+\n",
      "| Language |       File       |        WER        |\n",
      "+----------+------------------+-------------------+\n",
      "| Italian  |  parents_it.wav  |        0.0        |\n",
      "| Italian  | what_time_it.wav | 71.42857142857143 |\n",
      "| Italian  |   where_it.wav   | 33.33333333333333 |\n",
      "| Italian  | suitcase_it.wav  | 28.57142857142857 |\n",
      "| Italian  | suitcase_it.wav  | 28.57142857142857 |\n",
      "| Italian  |  checkin_it.wav  |        25.0       |\n",
      "+----------+------------------+-------------------+\n"
     ]
    }
   ],
   "source": [
    "valid = False\n",
    "while not valid:\n",
    "    language = input(\"Select language: 1 English 2 Italian 3 Spanish \")\n",
    "    try:\n",
    "        if int(language) == 1: #English\n",
    "            print(\"1\")\n",
    "            scorer = \"../Models/deepspeech-0.9.3-models.scorer\"\n",
    "            model = \"../Models/deepspeech-0.9.3-models.pbmm\"\n",
    "            directory = '../Audio_Files/EN'\n",
    "            fileRead(directory)\n",
    "            EN_filter()\n",
    "            fileRead(directory)\n",
    "            valid = True\n",
    "        elif int(language) == 2: #Italian\n",
    "            print(\"2\")\n",
    "            scorer = \"../Models/kenlm_it.scorer\"\n",
    "            model = \"../Models/output_graph_it.pbmm\"\n",
    "            directory = '../Audio_Files/IT'\n",
    "            fileRead(directory)\n",
    "            IT_filter()\n",
    "            fileRead(directory)\n",
    "            valid = True\n",
    "        elif int(language) == 3: #Spanish\n",
    "            print(\"3\")\n",
    "            scorer = \"../Models/kenlm_es.scorer\"\n",
    "            model = \"../Models/output_graph_es.pbmm\"\n",
    "            directory = '../Audio_Files/ES'\n",
    "            fileRead(directory)\n",
    "            ES_filter()\n",
    "            fileRead(directory)\n",
    "            valid = True\n",
    "        else:        \n",
    "            print(\"Error. Please input a number 1 2 or 3\")\n",
    "    except:\n",
    "        print(\"Error. Please input a number 1 2 or 3\")"
   ]
  },
  {
   "cell_type": "code",
   "execution_count": null,
   "id": "8c38507d",
   "metadata": {},
   "outputs": [],
   "source": []
  }
 ],
 "metadata": {
  "kernelspec": {
   "display_name": "Python 3 (ipykernel)",
   "language": "python",
   "name": "python3"
  },
  "language_info": {
   "codemirror_mode": {
    "name": "ipython",
    "version": 3
   },
   "file_extension": ".py",
   "mimetype": "text/x-python",
   "name": "python",
   "nbconvert_exporter": "python",
   "pygments_lexer": "ipython3",
   "version": "3.8.12"
  }
 },
 "nbformat": 4,
 "nbformat_minor": 5
}
