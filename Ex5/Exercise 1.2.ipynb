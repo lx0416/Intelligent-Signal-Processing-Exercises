{
 "cells": [
  {
   "cell_type": "code",
   "execution_count": null,
   "id": "dbe592a2",
   "metadata": {},
   "outputs": [],
   "source": [
    "pip install opencv-python"
   ]
  },
  {
   "cell_type": "markdown",
   "id": "cfaea678",
   "metadata": {},
   "source": [
    "# Task 2"
   ]
  },
  {
   "cell_type": "markdown",
   "id": "1897df1b",
   "metadata": {},
   "source": [
    "For Task 2, since we are required to count the number of cars that go from the city’s downtown to the city centre, we first restrict the bounding to cars within that path and set up two points where cars will pass through, as not all cars will pass through the first point. "
   ]
  },
  {
   "cell_type": "markdown",
   "id": "1491f18c",
   "metadata": {},
   "source": [
    "#### Traffic_Laramie_1.mp4"
   ]
  },
  {
   "cell_type": "code",
   "execution_count": 3,
   "id": "39a344df",
   "metadata": {
    "scrolled": true
   },
   "outputs": [
    {
     "name": "stdout",
     "output_type": "stream",
     "text": [
      "Frames per second: 25.0\n",
      "Initial frame shape:  (600, 1040)\n",
      "Total number of cars:  6\n",
      "Total number of frames:  4448\n",
      "Cars per minute:  2.023381294964029\n",
      "+-----------------------+----------------+-------------------+\n",
      "|         Video         | Number of cars |  Cars per minute  |\n",
      "+-----------------------+----------------+-------------------+\n",
      "| Traffic_Laramie_1.mp4 |       6        | 2.023381294964029 |\n",
      "+-----------------------+----------------+-------------------+\n"
     ]
    }
   ],
   "source": [
    "import cv2\n",
    "import threading\n",
    "from prettytable import PrettyTable\n",
    "\n",
    "table = PrettyTable()\n",
    "initial_frame = None\n",
    "counter = 0\n",
    "\n",
    "# Create the video capture object\n",
    "video=cv2.VideoCapture('Traffic_Laramie_1.mp4')\n",
    "\n",
    "# Get frames per second\n",
    "fps = video.get(cv2.CAP_PROP_FPS)\n",
    "print(\"Frames per second: {0}\".format(fps))\n",
    "total = 0\n",
    "\n",
    "# Start an infinite loop and keep reading frames until we press 'q'\n",
    "while True:\n",
    "    check, frame = video.read()\n",
    "\n",
    "    # breaks once the end of the file is reached\n",
    "    if frame is None:\n",
    "        break\n",
    "    # increment the total number of frames read\n",
    "    total += 1\n",
    "    gray_frame=cv2.cvtColor(frame,cv2.COLOR_BGR2GRAY)\n",
    "    \n",
    "    # The first captured frame is the baseline image\n",
    "    if initial_frame is None:\n",
    "        initial_frame = gray_frame\n",
    "        print(\"Initial frame shape: \", initial_frame.shape)\n",
    "        continue\n",
    "\n",
    "    # The difference between the baseline and the gray frame\n",
    "    delta_frame=cv2.absdiff(initial_frame,gray_frame)\n",
    "    \n",
    "    # The difference (the delta_frame) is converted into a binary image\n",
    "    # If a particular pixel value is greater than a certain threshold (specified by us here as 150),\n",
    "    # it will be assigned the value for White (255) else Black(0)\n",
    "    threshold_frame=cv2.threshold(delta_frame,50,255, cv2.THRESH_BINARY)[1]\n",
    "    blur_frame=cv2.GaussianBlur(threshold_frame,(25,25),0)\n",
    "    (contours,_)=cv2.findContours(blur_frame,cv2.RETR_EXTERNAL,cv2.CHAIN_APPROX_SIMPLE)\n",
    "\n",
    "    # Identify all the contours in our image.\n",
    "    for c in contours:\n",
    "        # Filter out any small contours\n",
    "        if cv2.contourArea(c) < 6900:\n",
    "            continue\n",
    "        (x, y, w, h)=cv2.boundingRect(c)\n",
    "        if y > 260:\n",
    "            centroidX = int(x + w/2)\n",
    "            centroidY = int(y + h/2)\n",
    "            cv2.circle(frame, (centroidX, centroidY),1, (0,0,255), 2)\n",
    "            cv2.rectangle(frame, (x, y), (x+w, y+h), (0,255,0), 1)\n",
    "            if (centroidX <= 565 and centroidX >= 563) and (centroidY >= 350 and centroidY <= 470):\n",
    "                counter = counter + 1\n",
    "            elif (centroidX == 198) and (centroidY >= 350 and centroidY <= 430):\n",
    "                counter = counter + 1\n",
    "    cv2.putText(frame, \"Number of cars: \" + str(counter), (0, 185), cv2.FONT_HERSHEY_SIMPLEX, 1, (0,255,0), 2, cv2.LINE_AA)\n",
    "            \n",
    "    x1, y1 = 560, 350\n",
    "    x2, y2 = 560, 470\n",
    "    x3, y3 = 200, 350\n",
    "    x4, y4 = 200, 430\n",
    "\n",
    "    # Draw set up points\n",
    "    line_thickness = 2\n",
    "    cv2.line(frame, (x1, y1), (x2, y2), (0, 0, 255), thickness=line_thickness)\n",
    "    cv2.line(frame, (x3, y3), (x4, y4), (0, 0, 255), thickness=line_thickness)\n",
    "    cv2.imshow('Webcam', frame)\n",
    "    \n",
    "    # Stop the program by pressing 'q'    \n",
    "    if cv2.waitKey(1) == ord('q'):\n",
    "        break\n",
    "print(\"Total number of cars: \", counter)\n",
    "print(\"Total number of frames: \", total)\n",
    "seconds = total/fps\n",
    "minutes = seconds/60\n",
    "carspermin = counter/minutes\n",
    "print(\"Cars per minute: \", str(carspermin))\n",
    "\n",
    "video.release()\n",
    "cv2.destroyAllWindows()\n",
    "\n",
    "table.field_names = [\"Video\", \"Number of cars\", \"Cars per minute\"]\n",
    "table.add_row([\"Traffic_Laramie_1.mp4\", str(counter), str(carspermin)])\n",
    "print(table)"
   ]
  },
  {
   "cell_type": "markdown",
   "id": "32fd7d2a",
   "metadata": {},
   "source": [
    "Cars per minute is calculated by first getting the frames per second and the total number of frames. Then, we get the total number of seconds by dividing the total number of frames by frames per second. After getting the seconds, we convert them into minutes by dividing by 60. Then, we get cars per minute by dividing the number of cars counted by the number of minutes. Thus, we will get (4448/25/60) minutes and 4 cars, which will derive 2.02 cars per minute. "
   ]
  },
  {
   "cell_type": "markdown",
   "id": "65a972ee",
   "metadata": {},
   "source": [
    "Now that we have generated the information needed, we do the same for the second video. However, revisions have to be made for the setup points to detect the vehicles passing through."
   ]
  },
  {
   "cell_type": "markdown",
   "id": "f662c7f3",
   "metadata": {},
   "source": [
    "#### Traffic_Laramie_2.mp4"
   ]
  },
  {
   "cell_type": "code",
   "execution_count": 5,
   "id": "045f26d5",
   "metadata": {},
   "outputs": [
    {
     "name": "stdout",
     "output_type": "stream",
     "text": [
      "Frames per second: 25.0\n",
      "Initial frame shape:  (600, 1040)\n",
      "Total number of cars:  4\n",
      "Total number of frames:  2642\n",
      "Cars per minute:  2.271006813020439\n",
      "+-----------------------+----------------+-------------------+\n",
      "|         Video         | Number of cars |  Cars per minute  |\n",
      "+-----------------------+----------------+-------------------+\n",
      "| Traffic_Laramie_2.mp4 |       4        | 2.271006813020439 |\n",
      "+-----------------------+----------------+-------------------+\n"
     ]
    }
   ],
   "source": [
    "import cv2\n",
    "import threading\n",
    "from prettytable import PrettyTable\n",
    "\n",
    "table = PrettyTable()\n",
    "initial_frame = None\n",
    "counter = 0\n",
    "\n",
    "video=cv2.VideoCapture('Traffic_Laramie_2.mp4')\n",
    "fps = video.get(cv2.CAP_PROP_FPS)\n",
    "print(\"Frames per second: {0}\".format(fps))\n",
    "total = 0\n",
    "\n",
    "while True:\n",
    "    check, frame = video.read()\n",
    "    if frame is None:\n",
    "        break\n",
    "    total += 1\n",
    "    gray_frame=cv2.cvtColor(frame,cv2.COLOR_BGR2GRAY)\n",
    "\n",
    "    if initial_frame is None:\n",
    "        initial_frame = gray_frame\n",
    "        print(\"Initial frame shape: \", initial_frame.shape)\n",
    "        continue\n",
    "\n",
    "    delta_frame=cv2.absdiff(initial_frame,gray_frame)\n",
    "    threshold_frame=cv2.threshold(delta_frame,50,255, cv2.THRESH_BINARY)[1]\n",
    "    blur_frame=cv2.GaussianBlur(threshold_frame,(25,25),0)\n",
    "    (contours,_)=cv2.findContours(blur_frame,cv2.RETR_EXTERNAL,cv2.CHAIN_APPROX_SIMPLE)\n",
    "    for c in contours:\n",
    "        if cv2.contourArea(c) < 6900:\n",
    "            continue\n",
    "        (x, y, w, h)=cv2.boundingRect(c)\n",
    "        if y > 260:\n",
    "            centroidX = int(x + w/2)\n",
    "            centroidY = int(y + h/2)\n",
    "            cv2.circle(frame, (centroidX, centroidY),1, (0,0,255), 2)\n",
    "            cv2.rectangle(frame, (x, y), (x+w, y+h), (0,255,0), 1)\n",
    "            if (centroidX <= 406 and centroidX >= 400) and (centroidY >= 350 and centroidY <= 470):\n",
    "                counter = counter + 1\n",
    "            elif (centroidX == 198) and (centroidY >= 350 and centroidY <= 430):\n",
    "                counter = counter + 1\n",
    "    cv2.putText(frame, \"Number of cars: \" + str(counter), (0, 185), cv2.FONT_HERSHEY_SIMPLEX, 1, (0,255,0), 2, cv2.LINE_AA)\n",
    "            \n",
    "    x1, y1 = 400, 350\n",
    "    x2, y2 = 400, 470\n",
    "    x3, y3 = 200, 350\n",
    "    x4, y4 = 200, 430\n",
    "\n",
    "    line_thickness = 2\n",
    "    cv2.line(frame, (x1, y1), (x2, y2), (0, 0, 255), thickness=line_thickness)\n",
    "    cv2.line(frame, (x3, y3), (x4, y4), (0, 0, 255), thickness=line_thickness)\n",
    "    cv2.imshow('Webcam', frame)\n",
    "    \n",
    "    if cv2.waitKey(1) == ord('q'):\n",
    "        break\n",
    "\n",
    "print(\"Total number of cars: \", counter)\n",
    "print(\"Total number of frames: \", total)\n",
    "seconds = total/fps\n",
    "minutes = seconds/60\n",
    "carspermin = counter/minutes\n",
    "print(\"Cars per minute: \", str(carspermin))\n",
    "\n",
    "video.release()\n",
    "cv2.destroyAllWindows()\n",
    "\n",
    "table.field_names = [\"Video\", \"Number of cars\", \"Cars per minute\"]\n",
    "table.add_row([\"Traffic_Laramie_2.mp4\", str(counter), str(carspermin)])\n",
    "print(table)"
   ]
  }
 ],
 "metadata": {
  "kernelspec": {
   "display_name": "Python 3 (ipykernel)",
   "language": "python",
   "name": "python3"
  },
  "language_info": {
   "codemirror_mode": {
    "name": "ipython",
    "version": 3
   },
   "file_extension": ".py",
   "mimetype": "text/x-python",
   "name": "python",
   "nbconvert_exporter": "python",
   "pygments_lexer": "ipython3",
   "version": "3.8.12"
  }
 },
 "nbformat": 4,
 "nbformat_minor": 5
}
