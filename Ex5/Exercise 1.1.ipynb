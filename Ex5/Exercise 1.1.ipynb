{
 "cells": [
  {
   "cell_type": "code",
   "execution_count": null,
   "id": "55ff33de",
   "metadata": {},
   "outputs": [],
   "source": [
    "pip install opencv-python"
   ]
  },
  {
   "cell_type": "markdown",
   "id": "4c8b3834",
   "metadata": {},
   "source": [
    "# Task 1"
   ]
  },
  {
   "cell_type": "code",
   "execution_count": null,
   "id": "379de746",
   "metadata": {},
   "outputs": [],
   "source": [
    "import cv2\n",
    "import threading\n",
    "import time\n",
    "\n",
    "initial_frame = None\n",
    "\n",
    "# We use VideoCapture function to create the video capture object\n",
    "video=cv2.VideoCapture('Traffic_Laramie_1.mp4')\n",
    "\n",
    "# We start an infinite loop and keep reading frames from the webcam until we press 'q'\n",
    "while True:\n",
    "    check, frame = video.read()\n",
    "    \n",
    "    # breaks once the end of the file is reached\n",
    "    if frame is None:\n",
    "        break\n",
    "\n",
    "    # Gray conversion and noise reduction (smoothening)\n",
    "    gray_frame=cv2.cvtColor(frame,cv2.COLOR_BGR2GRAY)\n",
    "    \n",
    "    # The first captured frame is the baseline image\n",
    "    if initial_frame is None:\n",
    "        initial_frame = gray_frame\n",
    "        print(initial_frame.shape)\n",
    "        continue\n",
    "\n",
    "    # The difference between the baseline and the gray frame\n",
    "    delta_frame=cv2.absdiff(initial_frame,gray_frame)\n",
    "    # The difference (the delta_frame) is converted into a binary image\n",
    "    # If a particular pixel value is greater than a certain threshold (specified by us here as 150),\n",
    "    # it will be assigned the value for White (255) else Black(0)\n",
    "    threshold_frame=cv2.threshold(delta_frame,50,255, cv2.THRESH_BINARY)[1]\n",
    "    blur_frame=cv2.GaussianBlur(threshold_frame,(25,25),0)\n",
    "    \n",
    "    # Identify all the contours in our image.\n",
    "    (contours,_)=cv2.findContours(blur_frame,cv2.RETR_EXTERNAL,cv2.CHAIN_APPROX_SIMPLE)\n",
    "\n",
    "    for c in contours:\n",
    "        # Filter out any small contours\n",
    "        if cv2.contourArea(c) < 6900:\n",
    "            continue\n",
    "        (x, y, w, h)=cv2.boundingRect(c)\n",
    "        if y > 260:\n",
    "            cv2.rectangle(frame, (x, y), (x+w, y+h), (0,255,0), 1)\n",
    "            \n",
    "    x1, y1 = 0, 260\n",
    "    x2, y2 = 1040, 260\n",
    "\n",
    "    line_thickness = 2\n",
    "    cv2.line(frame, (x1, y1), (x2, y2), (0, 0, 255), thickness=line_thickness)\n",
    "    cv2.imshow('Webcam', frame)\n",
    "    \n",
    "    # Stop the program by pressing 'q'    \n",
    "    if cv2.waitKey(1) == ord('q'):\n",
    "        break\n",
    "        \n",
    "# After the loop release the video object and destroy all windows\n",
    "video.release()\n",
    "cv2.destroyAllWindows()"
   ]
  },
  {
   "cell_type": "markdown",
   "id": "0e55ef43",
   "metadata": {},
   "source": [
    "From the video, we can see that the cars have been indicated with a green box. However, as the cars pass by each other, their green boxes may merge into 1, but this is inevitable, as their contours merged into each other. "
   ]
  },
  {
   "cell_type": "markdown",
   "id": "b7c7db6f",
   "metadata": {},
   "source": [
    "**References**\n",
    "1. Coursera Labs Exercise 15. Introduction to motion detection with OpenCV and Python.ipynb\n",
    "\n",
    "2. GitHub. 2022. GitHub - arindomjit/Motion_Detected_Alarm: An application that detects motion in a webcam feed and sends voice alerts. [online] Available at: <https://github.com/arindomjit/Motion_Detected_Alarm> [Accessed 28 March 2022]."
   ]
  }
 ],
 "metadata": {
  "kernelspec": {
   "display_name": "Python 3 (ipykernel)",
   "language": "python",
   "name": "python3"
  },
  "language_info": {
   "codemirror_mode": {
    "name": "ipython",
    "version": 3
   },
   "file_extension": ".py",
   "mimetype": "text/x-python",
   "name": "python",
   "nbconvert_exporter": "python",
   "pygments_lexer": "ipython3",
   "version": "3.8.12"
  }
 },
 "nbformat": 4,
 "nbformat_minor": 5
}
