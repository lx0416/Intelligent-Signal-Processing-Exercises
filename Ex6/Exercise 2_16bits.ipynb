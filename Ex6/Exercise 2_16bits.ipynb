{
 "cells": [
  {
   "cell_type": "markdown",
   "metadata": {},
   "source": [
    "Link to application in Coursera: https://cnepxqxy.labs.coursera.org/notebooks/Exercise%202.ipynb"
   ]
  },
  {
   "cell_type": "markdown",
   "metadata": {},
   "source": [
    "# Introduction"
   ]
  },
  {
   "cell_type": "markdown",
   "metadata": {},
   "source": [
    "Since there are negative values to be encoded/decoded, the encode and decode functions will be adapted to implement signed integers and how it works will be explained below."
   ]
  },
  {
   "cell_type": "markdown",
   "metadata": {},
   "source": [
    "# Encoding"
   ]
  },
  {
   "cell_type": "markdown",
   "metadata": {},
   "source": [
    "Encoding is done using the quotient and remainder concept. \n",
    "For example, if the number to be encoded is -135, we divide it by M, which is 2 to the power of K. Let us assume K is 4, so M is 16. So, 135/16 gives us a quotient of 8 and a remainder of 7. The quotient is known as Q or R2, while the remainder is normally represented as R or R2. R2 (Q) will be encoded in unary, while R1 (R) will be encoded in binary. Thus, Q = 8 will be represented as a unary value of 111111110, while R = 7 will be represented as a binary value of 111. Then, since we are encoding signed int16, we concatenate a 1 or 0 for negative or positive values. Finally, we concatenate the Q + sign + R and get 1111111101111 as the encoded value."
   ]
  },
  {
   "cell_type": "code",
   "execution_count": 53,
   "metadata": {},
   "outputs": [
    {
     "name": "stdout",
     "output_type": "stream",
     "text": [
      "1111111101111\n",
      "13\n"
     ]
    }
   ],
   "source": [
    "S = -135\n",
    "K = 4\n",
    "\n",
    "def encode1(S,K):\n",
    "    S = int(S)\n",
    "    sign = ''\n",
    "    # checking if it is a negative or positive integer\n",
    "    if S < 0:\n",
    "        sign = 'neg'\n",
    "        S = abs(S)\n",
    "    else:\n",
    "        sign = 'pos'\n",
    "    M = 2**K\n",
    "    Q = S // M\n",
    "    R = S % M\n",
    "\n",
    "    counter = Q\n",
    "    temp = ''\n",
    "    while counter != 0:\n",
    "        # generating R2\n",
    "        temp = temp + '1'\n",
    "        counter = counter-1\n",
    "\n",
    "    R2 = temp + '0'\n",
    "    R1 = format(R, \"b\")\n",
    "    # concatenating to form the encoded bitstring\n",
    "    if sign == 'pos':\n",
    "        R2R1 = R2 + '0' + R1\n",
    "    elif sign == 'neg':\n",
    "        R2R1 = R2 + '1' + R1\n",
    "    return R2R1\n",
    "print(encode1(S,K))\n",
    "print(len(encode1(S,K)))"
   ]
  },
  {
   "cell_type": "markdown",
   "metadata": {},
   "source": [
    "# Decoding"
   ]
  },
  {
   "cell_type": "markdown",
   "metadata": {},
   "source": [
    "Decoding is similar to the encoding process, but does the opposite. It takes in an encoded value and decodes it. For instance, in our previous example, where S = -135 and K = 4, the encoded value is 1111111101111. In decoding, we will take in the 1111111101111 value as well as the K value, and decode it back into -135. "
   ]
  },
  {
   "cell_type": "code",
   "execution_count": 54,
   "metadata": {},
   "outputs": [
    {
     "name": "stdout",
     "output_type": "stream",
     "text": [
      "-135\n"
     ]
    }
   ],
   "source": [
    "# Accounting for neg/pos\n",
    "# Note: R2R1 has to be a str\n",
    "def decode1(R2R1, K):\n",
    "    M = 2**K\n",
    "    R2R1 = str(R2R1)\n",
    "    for index in range(0,len(R2R1)):\n",
    "        # splitting into sign, Q and R\n",
    "        if R2R1[index] == '0':\n",
    "            Q = R2R1[:index+1]\n",
    "            sign = R2R1[index+1]\n",
    "            R1 = R2R1[index+2:]\n",
    "            break\n",
    "    while len(R1) != K and len(R1) < K:\n",
    "        R1 = '0' + R1\n",
    "\n",
    "    counter = 0\n",
    "    for i in Q:\n",
    "        if i == '1':\n",
    "            counter = counter + 1\n",
    "\n",
    "    intR1 = int(R1, 2)\n",
    "    S_prime = counter*M+intR1\n",
    "    if sign == '1':\n",
    "        # apply negative if sign bit is 1\n",
    "        S_prime = -(S_prime)\n",
    "    \n",
    "    return S_prime\n",
    "\n",
    "R2R1 = '1111111101111'\n",
    "K = 4\n",
    "print(decode1(R2R1,K))"
   ]
  },
  {
   "cell_type": "markdown",
   "metadata": {},
   "source": [
    "# Information about Sound1.wav"
   ]
  },
  {
   "cell_type": "code",
   "execution_count": 5,
   "metadata": {},
   "outputs": [
    {
     "name": "stdout",
     "output_type": "stream",
     "text": [
      "Sample rate: 44100\n",
      "Channels: 1\n",
      "Subtype: PCM_16\n",
      "(501022,)\n",
      "[-7 -7 -7 ...  0  2  1]\n",
      "<class 'numpy.ndarray'>\n"
     ]
    }
   ],
   "source": [
    "import numpy as np\n",
    "import soundfile as sf\n",
    "\n",
    "wave_file = sf.SoundFile('Sound1.wav')\n",
    "print('Sample rate: {}'.format(wave_file.samplerate))\n",
    "print('Channels: {}'.format(wave_file.channels))\n",
    "print('Subtype: {}'.format(wave_file.subtype))\n",
    "\n",
    "# Since we know that subtype is PCM_16, we set dtype to int16\n",
    "samples, fs = sf.read('Sound1.wav', dtype='int16')\n",
    "\n",
    "print(np.shape(samples))\n",
    "print(samples)\n",
    "print(type(samples))"
   ]
  },
  {
   "cell_type": "markdown",
   "metadata": {},
   "source": [
    "Here, we have extracted information about Sound1.wav.\n",
    "Its sample rate is 44100Hz, it has 1 channel, and its in 16 bits"
   ]
  },
  {
   "cell_type": "markdown",
   "metadata": {},
   "source": [
    "# Encoding with Sound1.wav"
   ]
  },
  {
   "cell_type": "markdown",
   "metadata": {},
   "source": [
    "## K = 4"
   ]
  },
  {
   "cell_type": "code",
   "execution_count": 7,
   "metadata": {},
   "outputs": [],
   "source": [
    "sampleslist = samples.tolist()\n",
    "newfile = open(\"Sound1_Enc_k4.ex2\", \"w\")\n",
    "K = 4\n",
    "s1totalk4 = 0\n",
    "for s in sampleslist:\n",
    "    encoded = encode1(s, K)\n",
    "    s1totalk4 = s1totalk4 + len(encoded)\n",
    "    newfile.write(encoded + \"\\n\")\n",
    "newfile.close()"
   ]
  },
  {
   "cell_type": "markdown",
   "metadata": {},
   "source": [
    "Now, we have created our new file Sound1_Enc_k4.ex2, which holds the encoded values when K = 4."
   ]
  },
  {
   "cell_type": "markdown",
   "metadata": {},
   "source": [
    "# Decoding with Sound1.wav"
   ]
  },
  {
   "cell_type": "code",
   "execution_count": 9,
   "metadata": {},
   "outputs": [],
   "source": [
    "import numpy as np\n",
    "encodedfile = open(\"Sound1_Enc_k4.ex2\", \"r\")\n",
    "K = 4\n",
    "s1k4declist = []\n",
    "for line in encodedfile:\n",
    "    if line != '\\n':\n",
    "        decoded = decode1(line, K)\n",
    "        s1k4declist.append(decoded)\n",
    "s1k4nparr = np.array(s1k4declist)\n",
    "encodedfile.close()"
   ]
  },
  {
   "cell_type": "markdown",
   "metadata": {},
   "source": [
    "Now that we have decoded the values in our encode file, we append each value to a list, which we will then convert it to numpy array, as it is the datatype required to write the new encoded_decoded wav file."
   ]
  },
  {
   "cell_type": "markdown",
   "metadata": {},
   "source": [
    "# Saving to new .wav file"
   ]
  },
  {
   "cell_type": "code",
   "execution_count": 12,
   "metadata": {},
   "outputs": [],
   "source": [
    "from scipy.io.wavfile import write\n",
    "write(\"Sound1_Enc_Dec_k4.wav\", 44100, s1k4nparr.astype(np.int16))"
   ]
  },
  {
   "cell_type": "markdown",
   "metadata": {},
   "source": [
    "# Checking the files are the same"
   ]
  },
  {
   "cell_type": "code",
   "execution_count": 14,
   "metadata": {},
   "outputs": [
    {
     "name": "stdout",
     "output_type": "stream",
     "text": [
      "Sample rate: 44100\n",
      "Channels: 1\n",
      "Subtype: PCM_16\n",
      "(501022,)\n",
      "[-7 -7 -7 ...  0  2  1]\n"
     ]
    }
   ],
   "source": [
    "import numpy as np\n",
    "import soundfile as sf\n",
    "\n",
    "wave_file = sf.SoundFile('Sound1_Enc_Dec_k4.wav')\n",
    "print('Sample rate: {}'.format(wave_file.samplerate))\n",
    "print('Channels: {}'.format(wave_file.channels))\n",
    "print('Subtype: {}'.format(wave_file.subtype))\n",
    "\n",
    "s1k4samples, fs = sf.read('Sound1_Enc_Dec_k4.wav', dtype='int16')\n",
    "# Ts = 1/fs\n",
    "\n",
    "print(np.shape(s1k4samples))\n",
    "print(s1k4samples)"
   ]
  },
  {
   "cell_type": "code",
   "execution_count": 15,
   "metadata": {},
   "outputs": [
    {
     "name": "stdout",
     "output_type": "stream",
     "text": [
      "All data samples same\n"
     ]
    }
   ],
   "source": [
    "if s1k4samples.all() == samples.all():\n",
    "    print(\"All data samples same\")"
   ]
  },
  {
   "cell_type": "markdown",
   "metadata": {},
   "source": [
    "As can be seen above, our Enc_Dec file has the same data as well as file size as the original. Thus, we have achieved this method of lossless data compression."
   ]
  },
  {
   "cell_type": "markdown",
   "metadata": {},
   "source": [
    "# % Compression"
   ]
  },
  {
   "cell_type": "code",
   "execution_count": 18,
   "metadata": {
    "scrolled": true
   },
   "outputs": [
    {
     "name": "stdout",
     "output_type": "stream",
     "text": [
      "313.2528985753121\n"
     ]
    }
   ],
   "source": [
    "# Total number of bits in original sound file\n",
    "oritotal = 501022*16\n",
    "\n",
    "# Calculating percentage of compression\n",
    "print(s1totalk4/oritotal*100)"
   ]
  },
  {
   "cell_type": "markdown",
   "metadata": {},
   "source": [
    "From the calculations above, after applying Rice encoding, the compression percentage is calculated to be about 300%. This is calculated by first deducing the number of bits in the original wav file, which takes the total number of data samples times 16, which is the datatype it is encoded in. Then, we compare the two and generate the compression %. The end result is not surprising as rice encoding has no limit to the length of bits to be compressed into. For example, if S is -2257, then Q will be 142 bits long, while R is constantly 4 bits long. This will make up a total of 142+1+4=147 bits long just for encoding -2257. "
   ]
  },
  {
   "cell_type": "markdown",
   "metadata": {},
   "source": [
    "If we are more concerned with the file size, we can calculate the compression rate by comparing the original file size with the encoded file size. The compression rate will thus be calculated as such: \n",
    "\n",
    "25.6MB (encoded file size) / 1MB (original file size) * 100 = 2560%"
   ]
  },
  {
   "cell_type": "markdown",
   "metadata": {},
   "source": [
    "## K = 2"
   ]
  },
  {
   "cell_type": "code",
   "execution_count": 19,
   "metadata": {},
   "outputs": [],
   "source": [
    "sampleslist = samples.tolist()\n",
    "newfile = open(\"Sound1_Enc_k2.ex2\", \"w\")\n",
    "K = 2\n",
    "s1totalk2 = 0\n",
    "for s in sampleslist:\n",
    "    encoded = encode1(s, K)\n",
    "    s1totalk2 = s1totalk2 + len(encoded)\n",
    "    newfile.write(encoded + \"\\n\")\n",
    "newfile.close()"
   ]
  },
  {
   "cell_type": "markdown",
   "metadata": {},
   "source": [
    "Now, we have created our new file Sound1_Enc_k2.ex2, which holds the encoded values when K = 2."
   ]
  },
  {
   "cell_type": "markdown",
   "metadata": {},
   "source": [
    "# Decoding with Sound1.wav"
   ]
  },
  {
   "cell_type": "code",
   "execution_count": 20,
   "metadata": {},
   "outputs": [],
   "source": [
    "import numpy as np\n",
    "encodedfile = open(\"Sound1_Enc_k2.ex2\", \"r\")\n",
    "K = 2\n",
    "s1k2declist = []\n",
    "for line in encodedfile:\n",
    "    if line != '\\n':\n",
    "        decoded = decode1(line, K)\n",
    "        s1k2declist.append(decoded)\n",
    "s1k2nparr = np.array(s1k2declist)\n",
    "encodedfile.close()"
   ]
  },
  {
   "cell_type": "markdown",
   "metadata": {},
   "source": [
    "Now that we have decoded the values in our encode file, we append each value to a list, which we will then convert it to numpy array, as it is the datatype required to write the new encoded_decoded wav file."
   ]
  },
  {
   "cell_type": "markdown",
   "metadata": {},
   "source": [
    "# Saving to new .wav file"
   ]
  },
  {
   "cell_type": "code",
   "execution_count": 22,
   "metadata": {},
   "outputs": [],
   "source": [
    "from scipy.io.wavfile import write\n",
    "write(\"Sound1_Enc_Dec_k2.wav\", 44100, s1k4nparr.astype(np.int16))"
   ]
  },
  {
   "cell_type": "markdown",
   "metadata": {},
   "source": [
    "# Checking the files are the same"
   ]
  },
  {
   "cell_type": "code",
   "execution_count": 23,
   "metadata": {},
   "outputs": [
    {
     "name": "stdout",
     "output_type": "stream",
     "text": [
      "Sample rate: 44100\n",
      "Channels: 1\n",
      "Subtype: PCM_16\n",
      "(501022,)\n",
      "[-7 -7 -7 ...  0  2  1]\n"
     ]
    }
   ],
   "source": [
    "import numpy as np\n",
    "import soundfile as sf\n",
    "\n",
    "wave_file = sf.SoundFile('Sound1_Enc_Dec_k2.wav')\n",
    "print('Sample rate: {}'.format(wave_file.samplerate))\n",
    "print('Channels: {}'.format(wave_file.channels))\n",
    "print('Subtype: {}'.format(wave_file.subtype))\n",
    "\n",
    "s1k2samples, fs = sf.read('Sound1_Enc_Dec_k2.wav', dtype='int16')\n",
    "# Ts = 1/fs\n",
    "\n",
    "print(np.shape(s1k2samples))\n",
    "print(s1k2samples)"
   ]
  },
  {
   "cell_type": "code",
   "execution_count": 24,
   "metadata": {},
   "outputs": [
    {
     "name": "stdout",
     "output_type": "stream",
     "text": [
      "All data samples same\n"
     ]
    }
   ],
   "source": [
    "if s1k2samples.all() == samples.all():\n",
    "    print(\"All data samples same\")"
   ]
  },
  {
   "cell_type": "markdown",
   "metadata": {},
   "source": [
    "# % Compression"
   ]
  },
  {
   "cell_type": "code",
   "execution_count": 25,
   "metadata": {},
   "outputs": [
    {
     "name": "stdout",
     "output_type": "stream",
     "text": [
      "1162.6740193045416\n"
     ]
    }
   ],
   "source": [
    "# Calculating percentage of compression\n",
    "print(s1totalk2/oritotal*100)"
   ]
  },
  {
   "cell_type": "markdown",
   "metadata": {},
   "source": [
    "From the calculations above, after applying Rice encoding, the compression percentage is calculated to be more than 1000%. This is calculated by first deducing the number of bits in the original wav file, which takes the total number of data samples times 16, which is the datatype it is encoded in. Then, we compare the two and generate the compression %. The end result is not surprising as rice encoding has no limit to the length of bits to be compressed into. For example, if S is -2257, then Q will be 2257//4+1=564 bits long, while R is constantly 2 bits long. This will make up a total of 565+1+2=568 bits long just for encoding -2257. "
   ]
  },
  {
   "cell_type": "markdown",
   "metadata": {},
   "source": [
    "If we are more concerned with the file size, we can calculate the compression rate by comparing the original file size with the encoded file size. The compression rate will thus be calculated as such: \n",
    "\n",
    "93.7MB (encoded file size) / 1MB (original file size) * 100 = 9370%"
   ]
  },
  {
   "cell_type": "markdown",
   "metadata": {},
   "source": [
    "Then, we do the whole of the same process for Sound2.wav file, where we set K = 4 and K = 2."
   ]
  },
  {
   "cell_type": "markdown",
   "metadata": {},
   "source": [
    "# Information about Sound2.wav"
   ]
  },
  {
   "cell_type": "code",
   "execution_count": 26,
   "metadata": {},
   "outputs": [
    {
     "name": "stdout",
     "output_type": "stream",
     "text": [
      "Sample rate: 44100\n",
      "Channels: 1\n",
      "Subtype: PCM_16\n",
      "(504000,)\n",
      "[ -999   886 -1325 ...    31  -876   339]\n",
      "<class 'numpy.ndarray'>\n"
     ]
    }
   ],
   "source": [
    "import numpy as np\n",
    "import soundfile as sf\n",
    "\n",
    "wave_file = sf.SoundFile('Sound2.wav')\n",
    "print('Sample rate: {}'.format(wave_file.samplerate))\n",
    "print('Channels: {}'.format(wave_file.channels))\n",
    "print('Subtype: {}'.format(wave_file.subtype))\n",
    "\n",
    "samples, fs = sf.read('Sound2.wav', dtype='int16')\n",
    "# Ts = 1/fs\n",
    "\n",
    "print(np.shape(samples))\n",
    "print(samples)\n",
    "print(type(samples))"
   ]
  },
  {
   "cell_type": "markdown",
   "metadata": {},
   "source": [
    "Here, we have extracted information about Sound2.wav.\n",
    "Its sample rate is 44100Hz, it has 1 channel, and its in 16 bits, much like Sound1.wav, only the samples are different in values."
   ]
  },
  {
   "cell_type": "markdown",
   "metadata": {},
   "source": [
    "# Encoding with Sound2.wav"
   ]
  },
  {
   "cell_type": "markdown",
   "metadata": {},
   "source": [
    "## K = 4"
   ]
  },
  {
   "cell_type": "code",
   "execution_count": 27,
   "metadata": {},
   "outputs": [],
   "source": [
    "sampleslist = samples.tolist()\n",
    "newfile = open(\"Sound2_Enc_k4.ex2\", \"w\")\n",
    "K = 4\n",
    "s2totalk4 = 0\n",
    "for s in sampleslist:\n",
    "    encoded = encode1(s, K)\n",
    "    s2totalk4 = s2totalk4 + len(encoded)\n",
    "    newfile.write(encoded + \"\\n\")\n",
    "newfile.close()"
   ]
  },
  {
   "cell_type": "markdown",
   "metadata": {},
   "source": [
    "Now, we have created our new file Sound2_Enc_k4.ex2, which holds the encoded values when K = 4."
   ]
  },
  {
   "cell_type": "markdown",
   "metadata": {},
   "source": [
    "# Decoding with Sound2.wav"
   ]
  },
  {
   "cell_type": "code",
   "execution_count": 28,
   "metadata": {},
   "outputs": [],
   "source": [
    "import numpy as np\n",
    "encodedfile = open(\"Sound2_Enc_k4.ex2\", \"r\")\n",
    "K = 4\n",
    "s2k4declist = []\n",
    "for line in encodedfile:\n",
    "    if line != '\\n':\n",
    "        decoded = decode1(line, K)\n",
    "        s2k4declist.append(decoded)\n",
    "s2k4nparr = np.array(s2k4declist)\n",
    "encodedfile.close()"
   ]
  },
  {
   "cell_type": "markdown",
   "metadata": {},
   "source": [
    "Now that we have decoded the values in our encode file, we append each value to a list, which we will then convert it to numpy array, as it is the datatype required to write the new encoded_decoded wav file."
   ]
  },
  {
   "cell_type": "markdown",
   "metadata": {},
   "source": [
    "# Saving to new .wav file"
   ]
  },
  {
   "cell_type": "code",
   "execution_count": 30,
   "metadata": {},
   "outputs": [],
   "source": [
    "from scipy.io.wavfile import write\n",
    "write(\"Sound2_Enc_Dec_k4.wav\", 44100, s2k4nparr.astype(np.int16))"
   ]
  },
  {
   "cell_type": "markdown",
   "metadata": {},
   "source": [
    "# Checking the files are the same"
   ]
  },
  {
   "cell_type": "code",
   "execution_count": 31,
   "metadata": {},
   "outputs": [
    {
     "name": "stdout",
     "output_type": "stream",
     "text": [
      "Sample rate: 44100\n",
      "Channels: 1\n",
      "Subtype: PCM_16\n",
      "(504000,)\n",
      "[ -999   886 -1325 ...    31  -876   339]\n"
     ]
    }
   ],
   "source": [
    "import numpy as np\n",
    "import soundfile as sf\n",
    "\n",
    "wave_file = sf.SoundFile('Sound2_Enc_Dec_k4.wav')\n",
    "print('Sample rate: {}'.format(wave_file.samplerate))\n",
    "print('Channels: {}'.format(wave_file.channels))\n",
    "print('Subtype: {}'.format(wave_file.subtype))\n",
    "\n",
    "s2k4samples, fs = sf.read('Sound2_Enc_Dec_k4.wav', dtype='int16')\n",
    "# Ts = 1/fs\n",
    "\n",
    "print(np.shape(s2k4samples))\n",
    "print(s2k4samples)"
   ]
  },
  {
   "cell_type": "code",
   "execution_count": 32,
   "metadata": {},
   "outputs": [
    {
     "name": "stdout",
     "output_type": "stream",
     "text": [
      "All data samples same\n"
     ]
    }
   ],
   "source": [
    "if s2k4samples.all() == samples.all():\n",
    "    print(\"All data samples same\")"
   ]
  },
  {
   "cell_type": "markdown",
   "metadata": {},
   "source": [
    "# % Compression"
   ]
  },
  {
   "cell_type": "code",
   "execution_count": 33,
   "metadata": {},
   "outputs": [
    {
     "name": "stdout",
     "output_type": "stream",
     "text": [
      "1954.684548611111\n"
     ]
    }
   ],
   "source": [
    "# Total number of bits in original sound file\n",
    "oritotal = 504000*16\n",
    "\n",
    "# Calculating percentage of compression\n",
    "print(s2totalk4/oritotal*100)"
   ]
  },
  {
   "cell_type": "markdown",
   "metadata": {},
   "source": [
    "From the calculations above, after applying Rice encoding, the compression percentage is calculated to be more than 1000%. This is calculated by first deducing the number of bits in the original wav file, which takes the total number of data samples times 16, which is the datatype it is encoded in. Then, we compare the two and generate the compression %. The end result is not surprising as rice encoding has no limit to the length of bits to be compressed into. "
   ]
  },
  {
   "cell_type": "markdown",
   "metadata": {},
   "source": [
    "If we are more concerned with the file size, we can calculate the compression rate by comparing the original file size with the encoded file size. The compression rate will thus be calculated as such: \n",
    "\n",
    "158MB (encoded file size) / 1.01MB (original file size) * 100 = 15643%"
   ]
  },
  {
   "cell_type": "markdown",
   "metadata": {},
   "source": [
    "## K = 2"
   ]
  },
  {
   "cell_type": "code",
   "execution_count": 35,
   "metadata": {},
   "outputs": [],
   "source": [
    "sampleslist = samples.tolist()\n",
    "newfile = open(\"Sound2_Enc_k2.ex2\", \"w\")\n",
    "K = 2\n",
    "s2totalk2 = 0\n",
    "for s in sampleslist:\n",
    "    encoded = encode1(s, K)\n",
    "    s2totalk2 = s2totalk2 + len(encoded)\n",
    "    newfile.write(encoded + \"\\n\")\n",
    "newfile.close()"
   ]
  },
  {
   "cell_type": "markdown",
   "metadata": {},
   "source": [
    "Now, we have created our new file Sound2_Enc_k2.ex2, which holds the encoded values when K = 2."
   ]
  },
  {
   "cell_type": "markdown",
   "metadata": {},
   "source": [
    "# Decoding with Sound2.wav"
   ]
  },
  {
   "cell_type": "code",
   "execution_count": 36,
   "metadata": {},
   "outputs": [],
   "source": [
    "import numpy as np\n",
    "encodedfile = open(\"Sound2_Enc_k2.ex2\", \"r\")\n",
    "K = 2\n",
    "s2k2declist = []\n",
    "for line in encodedfile:\n",
    "    if line != '\\n':\n",
    "        decoded = decode1(line, K)\n",
    "        s2k2declist.append(decoded)\n",
    "s2k2nparr = np.array(s2k2declist)\n",
    "encodedfile.close()"
   ]
  },
  {
   "cell_type": "markdown",
   "metadata": {},
   "source": [
    "# Saving to new .wav file"
   ]
  },
  {
   "cell_type": "code",
   "execution_count": 38,
   "metadata": {},
   "outputs": [],
   "source": [
    "from scipy.io.wavfile import write\n",
    "write(\"Sound2_Enc_Dec_k2.wav\", 44100, s2k2nparr.astype(np.int16))"
   ]
  },
  {
   "cell_type": "markdown",
   "metadata": {},
   "source": [
    "# Checking the files are the same"
   ]
  },
  {
   "cell_type": "code",
   "execution_count": 39,
   "metadata": {},
   "outputs": [
    {
     "name": "stdout",
     "output_type": "stream",
     "text": [
      "Sample rate: 44100\n",
      "Channels: 1\n",
      "Subtype: PCM_16\n",
      "(504000,)\n",
      "[ -999   886 -1325 ...    31  -876   339]\n"
     ]
    }
   ],
   "source": [
    "import numpy as np\n",
    "import soundfile as sf\n",
    "\n",
    "wave_file = sf.SoundFile('Sound2_Enc_Dec_k2.wav')\n",
    "print('Sample rate: {}'.format(wave_file.samplerate))\n",
    "print('Channels: {}'.format(wave_file.channels))\n",
    "print('Subtype: {}'.format(wave_file.subtype))\n",
    "\n",
    "newsamples, fs = sf.read('Sound2_Enc_Dec_k2.wav', dtype='int16')\n",
    "# Ts = 1/fs\n",
    "\n",
    "print(np.shape(s2k4samples))\n",
    "print(s2k4samples)"
   ]
  },
  {
   "cell_type": "code",
   "execution_count": 40,
   "metadata": {},
   "outputs": [
    {
     "name": "stdout",
     "output_type": "stream",
     "text": [
      "All data samples same\n"
     ]
    }
   ],
   "source": [
    "if s2k4samples.all() == samples.all():\n",
    "    print(\"All data samples same\")"
   ]
  },
  {
   "cell_type": "markdown",
   "metadata": {},
   "source": [
    "# % Compression"
   ]
  },
  {
   "cell_type": "code",
   "execution_count": 41,
   "metadata": {},
   "outputs": [
    {
     "name": "stdout",
     "output_type": "stream",
     "text": [
      "7721.826612103175\n"
     ]
    }
   ],
   "source": [
    "# Calculating percentage of compression\n",
    "print(s2totalk2/oritotal*100)"
   ]
  },
  {
   "cell_type": "markdown",
   "metadata": {},
   "source": [
    "From the calculations above, after applying Rice encoding, the compression percentage is calculated to be more than 7000%. The end result is not surprising as rice encoding has no limit to the length of bits to be compressed into. "
   ]
  },
  {
   "cell_type": "markdown",
   "metadata": {},
   "source": [
    "If we are more concerned with the file size, we can calculate the compression rate by comparing the original file size with the encoded file size. The compression rate will thus be calculated as such: \n",
    "\n",
    "623MB (encoded file size) / 1.01MB (original file size) * 100 = 61683%"
   ]
  },
  {
   "cell_type": "markdown",
   "metadata": {},
   "source": [
    "# Further Development"
   ]
  },
  {
   "cell_type": "markdown",
   "metadata": {},
   "source": [
    "From the extraction of samples above, we can see that there are values as large as +/- 2000. The main reason for the compression % being very large is due to the rice encoding algorithm having no limit to the number of bits to be encoded into. "
   ]
  },
  {
   "cell_type": "markdown",
   "metadata": {},
   "source": [
    "A way to improve the compression rate is to perhaps set a larger K value, reduce the range of samples, reduce the size of Q, or saving the file in a different way."
   ]
  },
  {
   "cell_type": "markdown",
   "metadata": {},
   "source": [
    "### 1. Larger K"
   ]
  },
  {
   "cell_type": "markdown",
   "metadata": {},
   "source": [
    "Since Sound2.wav produces a larger compression % than Sound1.wav, we can simply test the extent of our way to reduce the compression % only on Sound2.wav."
   ]
  },
  {
   "cell_type": "code",
   "execution_count": 49,
   "metadata": {},
   "outputs": [],
   "source": [
    "K = 6\n",
    "sampleslist = samples.tolist()\n",
    "newfile = open(\"Sound2_Enc_k6.ex2\", \"w\")\n",
    "s2totalk6 = 0\n",
    "for s in sampleslist:\n",
    "    encoded = encode1(s, K)\n",
    "    s2totalk6 = s2totalk6 + len(encoded)\n",
    "    newfile.write(encoded + \"\\n\")\n",
    "newfile.close()"
   ]
  },
  {
   "cell_type": "code",
   "execution_count": 50,
   "metadata": {},
   "outputs": [
    {
     "name": "stdout",
     "output_type": "stream",
     "text": [
      "522.243142361111\n"
     ]
    }
   ],
   "source": [
    "# Calculating percentage of compression\n",
    "print(s2totalk6/oritotal*100)"
   ]
  },
  {
   "cell_type": "markdown",
   "metadata": {},
   "source": [
    "Here, we can see that the compression % has been significantly reduced! From when K = 2 and K = 4, the compression % were more than 1000%. Now when we use K = 6, compression % reduced to 500%. In terms of file size, compression % is 42.6/1.01*100=4217%. Let us try a higher K value of 8."
   ]
  },
  {
   "cell_type": "code",
   "execution_count": 51,
   "metadata": {},
   "outputs": [],
   "source": [
    "K = 8\n",
    "sampleslist = samples.tolist()\n",
    "newfile = open(\"Sound2_Enc_k8.ex2\", \"w\")\n",
    "s2totalk8 = 0\n",
    "for s in sampleslist:\n",
    "    encoded = encode1(s, K)\n",
    "    s2totalk8 = s2totalk8 + len(encoded)\n",
    "    newfile.write(encoded + \"\\n\")\n",
    "newfile.close()"
   ]
  },
  {
   "cell_type": "code",
   "execution_count": 52,
   "metadata": {},
   "outputs": [
    {
     "name": "stdout",
     "output_type": "stream",
     "text": [
      "173.45221974206348\n"
     ]
    }
   ],
   "source": [
    "# Calculating percentage of compression\n",
    "print(s2totalk8/oritotal*100)"
   ]
  },
  {
   "cell_type": "markdown",
   "metadata": {},
   "source": [
    "Here, we can see that the compression % has once again been significantly reduced! From when K = 2, K = 4 and K = 6, the compression % were more than 500%. Now when we use K = 8, compression % reduced to 100%. In terms of file size, compression % is 14.5/1.01*100=1435%. This shows that this method of improving the compression rates is successful. "
   ]
  },
  {
   "cell_type": "markdown",
   "metadata": {},
   "source": [
    "However, this may not work for all sound files as there may be different samples. Thus, it is more efficient to use an appropriate K value for different files to achieve the optimal compression rate."
   ]
  },
  {
   "cell_type": "markdown",
   "metadata": {},
   "source": [
    "### 2. Reducing range of samples"
   ]
  },
  {
   "cell_type": "markdown",
   "metadata": {},
   "source": [
    "This will not be implemented in code due to the insufficient syllabus coverage but the theory of the idea behind it will be explained."
   ]
  },
  {
   "cell_type": "markdown",
   "metadata": {},
   "source": [
    "Rice coding was originally known as residual coding, which is used to compress the residuals. Residuals are the errors between the predictions of the model and the real signal. Thus, to implement this, a prediction algorithm has to be implemented to get the list of residuals, for example, a linear predictor. The residuals will thus be smaller than the original sample so it can be encoded with less bits, not as high as 2000. The compression rate will thus be improved to be significantly less than the original file."
   ]
  },
  {
   "cell_type": "markdown",
   "metadata": {},
   "source": [
    "### 3. Reduce size of Q"
   ]
  },
  {
   "cell_type": "markdown",
   "metadata": {},
   "source": [
    "The length of Q could be reduced to be half of what it was originally. This will also improve compression rate as Q is of variable length, depending on the sample as well as the K value. For example, if K is 4 and S is -2257, then Q will be 142 bits long. We could possibly reduce Q to be half of what it was, and end up with a new Q value of 71 bits instead. This will help to improve the compression rate."
   ]
  },
  {
   "cell_type": "markdown",
   "metadata": {},
   "source": [
    "### 4. Saving file"
   ]
  },
  {
   "cell_type": "markdown",
   "metadata": {},
   "source": [
    "If we are concerned with compressing the file size, since the data was saved as bitstring, we can try to save it in bytes instead to get a smaller file. However, to be saved in bytes, the encoded bitstring must first be converted to integers. This makes the rice encoding redundant, as well as increases the time complexity of the application, as the data can directly be converted into bytes, or they are already in bytes. Thus, a better alternative would be to use residual coding with an appropraite algorithm to predict, or compress audio using other file formats such as zip."
   ]
  },
  {
   "cell_type": "markdown",
   "metadata": {},
   "source": [
    "Additionally, we could get the frames instead of the data, as this method also achieves lossless compression. The compression rate will be lower than when compressing the data samples. We first create another function which based on rice encoding."
   ]
  },
  {
   "cell_type": "code",
   "execution_count": 1,
   "metadata": {},
   "outputs": [],
   "source": [
    "def encode(S,K):\n",
    "    M = 2**K\n",
    "    Q = S // M\n",
    "    R = S % M\n",
    "\n",
    "    counter = Q\n",
    "    temp = ''\n",
    "    while counter != 0:    \n",
    "        temp = temp + '1'\n",
    "        counter = counter-1\n",
    "\n",
    "    R2 = temp + '0'\n",
    "    R1 = format(R, \"b\")\n",
    "    R2R1 = R2 + R1\n",
    "    return str(R2R1)"
   ]
  },
  {
   "cell_type": "markdown",
   "metadata": {},
   "source": [
    "Then, we get the total number of frames from Sound1.wav and read them. Since the frames are in the range 0-255, the encoded file will be smaller. In the case of reading the data samples, we have to account for negative and positive values. "
   ]
  },
  {
   "cell_type": "code",
   "execution_count": 4,
   "metadata": {},
   "outputs": [
    {
     "name": "stdout",
     "output_type": "stream",
     "text": [
      "End of write\n"
     ]
    }
   ],
   "source": [
    "import wave\n",
    "\n",
    "# opens wav file to read frames\n",
    "audio_file = wave.open(\"Sound1.wav\", mode=\"rb\")\n",
    "frames = audio_file.readframes(audio_file.getnframes())\n",
    "\n",
    "# open file to write encoded bits into\n",
    "newfile = open(\"Sound1_Enc_k4_frames.ex2\", \"w\")\n",
    "K = 4\n",
    "\n",
    "for i in range(len(frames)):\n",
    "    encoded = encode(frames[i], K)\n",
    "    newfile.write(encoded + \"\\n\")\n",
    "print('End of write')\n",
    "\n",
    "# close files\n",
    "newfile.close()\n",
    "audio_file.close()"
   ]
  },
  {
   "cell_type": "markdown",
   "metadata": {},
   "source": [
    "We can see that the file compression rate is lower than when applying rice coding on the data samples. The file compression can be calculated by 12MB/1MB*100 = 1200%, which is lesser than encoding the data samples. However, because rice coding is done on samples, encoding using frames is inappropriate even though it generates a lower compression rate. A frame is the quantity of audio samples taken during a video frame interval, while a sample is the smallest usable quantum of digital audio. (waveform and Mack, 2022)"
   ]
  },
  {
   "cell_type": "markdown",
   "metadata": {},
   "source": [
    "## References"
   ]
  },
  {
   "cell_type": "markdown",
   "metadata": {},
   "source": [
    "waveform, D. and Mack, J., 2022. Difference between frame and sample in waveform. [online] Sound Design Stack Exchange. Available at: <https://sound.stackexchange.com/questions/41567/difference-between-frame-and-sample-in-waveform#:~:text=A%20sample%20is%20the%20smallest,during%20a%20video%20frame%20interval.> [Accessed 23 March 2022]."
   ]
  }
 ],
 "metadata": {
  "kernelspec": {
   "display_name": "Python 3",
   "language": "python",
   "name": "python3"
  },
  "language_info": {
   "codemirror_mode": {
    "name": "ipython",
    "version": 3
   },
   "file_extension": ".py",
   "mimetype": "text/x-python",
   "name": "python",
   "nbconvert_exporter": "python",
   "pygments_lexer": "ipython3",
   "version": "3.7.6"
  }
 },
 "nbformat": 4,
 "nbformat_minor": 4
}
