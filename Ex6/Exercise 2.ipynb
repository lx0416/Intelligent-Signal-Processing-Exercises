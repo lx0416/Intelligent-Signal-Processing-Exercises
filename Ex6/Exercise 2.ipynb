{
 "cells": [
  {
   "cell_type": "markdown",
   "metadata": {},
   "source": [
    "Link to application in Coursera: https://cnepxqxy.labs.coursera.org/notebooks/Exercise%202.ipynb"
   ]
  },
  {
   "cell_type": "markdown",
   "metadata": {},
   "source": [
    "# Introduction"
   ]
  },
  {
   "cell_type": "markdown",
   "metadata": {},
   "source": [
    "Rice coding is a lossless compression method for compressing audio files. We first define our encoder and decoder functions based on rice coding. "
   ]
  },
  {
   "cell_type": "markdown",
   "metadata": {},
   "source": [
    "# Encoder"
   ]
  },
  {
   "cell_type": "markdown",
   "metadata": {},
   "source": [
    "The encoding function is implemented using the quotient and remainder concept. \n",
    "For example, if the number to be encoded is 129, we divide it by M, which is 2 to the power of K. Let us assume K is 4, so M is 16. So, 129/16 gives us a quotient of 8 and a remainder of 1. The quotient is known as Q or R2, while the remainder is normally represented as R or R2. R2 (Q) will be encoded in unary, while R1 (R) will be encoded in binary. Thus, Q = 8 will be represented as a unary value of 111111110, while R = 1 will be represented as a binary value of 1. Then, we concatenate the Q + R and get 1111111101 as the encoded value."
   ]
  },
  {
   "cell_type": "code",
   "execution_count": 1,
   "metadata": {},
   "outputs": [
    {
     "name": "stdout",
     "output_type": "stream",
     "text": [
      "1111111101\n"
     ]
    }
   ],
   "source": [
    "S = 129\n",
    "K = 4\n",
    "\n",
    "def encode(S,K):\n",
    "    M = 2**K\n",
    "    Q = S // M\n",
    "    R = S % M\n",
    "\n",
    "    counter = Q\n",
    "    temp = ''\n",
    "    while counter != 0:    \n",
    "        temp = temp + '1'\n",
    "        counter = counter-1\n",
    "\n",
    "    R2 = temp + '0'\n",
    "    R1 = format(R, \"b\")\n",
    "    R2R1 = R2 + R1\n",
    "    return str(R2R1)\n",
    "print(encode(S,K))"
   ]
  },
  {
   "cell_type": "markdown",
   "metadata": {},
   "source": [
    "# Decoder"
   ]
  },
  {
   "cell_type": "markdown",
   "metadata": {},
   "source": [
    "Decoding is similar to the encoding process, but does the opposite. It takes in an encoded value and decodes it. For instance, in our previous example, where S = 129 and K = 4, the encoded value is 1111111101. In decoding, we will take in the 1111111101 value as well as the K value, and decode it back into 129. "
   ]
  },
  {
   "cell_type": "code",
   "execution_count": 2,
   "metadata": {},
   "outputs": [
    {
     "name": "stdout",
     "output_type": "stream",
     "text": [
      "129\n"
     ]
    }
   ],
   "source": [
    "# my encoder/decoder is only for 8 bits (must set the number of bits beforehand)\n",
    "def decode(R2R1, K):\n",
    "    M = 2**K\n",
    "    R2R1 = str(R2R1)\n",
    "    for index in range(0,len(R2R1)):\n",
    "        if R2R1[index] == '0':\n",
    "            Q = R2R1[:index+1]\n",
    "            R1 = R2R1[index+1:]\n",
    "            break\n",
    "    while len(R1) != K and len(R1) < K:\n",
    "        R1 = '0' + R1\n",
    "\n",
    "    counter = 0\n",
    "    for i in Q:\n",
    "        if i == '1':\n",
    "            counter = counter + 1\n",
    "\n",
    "    intR1 = int(R1, 2)\n",
    "    S_prime = counter*M+intR1\n",
    "    \n",
    "    return str(S_prime)\n",
    "\n",
    "R2R1 = '1111111101'\n",
    "K = 4\n",
    "print(decode(R2R1,K))"
   ]
  },
  {
   "cell_type": "markdown",
   "metadata": {},
   "source": [
    "# Information about Sound1.wav"
   ]
  },
  {
   "cell_type": "code",
   "execution_count": 3,
   "metadata": {},
   "outputs": [
    {
     "name": "stdout",
     "output_type": "stream",
     "text": [
      "Sample rate: 44100\n",
      "Channels: 1\n",
      "Subtype: PCM_16\n",
      "(501022,)\n",
      "[-7 -7 -7 ...  0  2  1]\n"
     ]
    }
   ],
   "source": [
    "import numpy as np\n",
    "import soundfile as sf\n",
    "\n",
    "wave_file = sf.SoundFile('Sound1.wav')\n",
    "print('Sample rate: {}'.format(wave_file.samplerate))\n",
    "print('Channels: {}'.format(wave_file.channels))\n",
    "print('Subtype: {}'.format(wave_file.subtype))\n",
    "\n",
    "s1samples, fs = sf.read('Sound1.wav', dtype='int16')\n",
    "\n",
    "print(np.shape(s1samples))\n",
    "print(s1samples)"
   ]
  },
  {
   "cell_type": "markdown",
   "metadata": {},
   "source": [
    "Here, we have extracted information about Sound1.wav.\n",
    "Its sample rate is 44100Hz, it has 1 channel, and its in 16 bits. \n",
    "However, since the audio samples are too large in value, the compression rate will be very high, since the samples include negative values. Thus, we can instead read n frames and rice encode those into the .ex2 file, which will also achieve lossless compression and generate a lower compression rate since the each frame will be a value between 0 and 255. "
   ]
  },
  {
   "cell_type": "markdown",
   "metadata": {},
   "source": [
    "# Encoding with Sound1.wav"
   ]
  },
  {
   "cell_type": "markdown",
   "metadata": {},
   "source": [
    "## K = 4"
   ]
  },
  {
   "cell_type": "code",
   "execution_count": 4,
   "metadata": {},
   "outputs": [
    {
     "name": "stdout",
     "output_type": "stream",
     "text": [
      "End of write\n"
     ]
    }
   ],
   "source": [
    "import wave\n",
    "\n",
    "# open wav file to read frames\n",
    "audio_file = wave.open(\"Sound1.wav\", mode=\"rb\")\n",
    "frames = audio_file.readframes(audio_file.getnframes())\n",
    "\n",
    "# open file to write encoded bits into\n",
    "newfile = open(\"Sound1_Enc_k4.ex2\", \"w\")\n",
    "K = 4\n",
    "\n",
    "for i in range(len(frames)):\n",
    "    encoded = encode(frames[i], K)\n",
    "    newfile.write(encoded + \"\\n\")\n",
    "print('End of write')\n",
    "\n",
    "# close files\n",
    "newfile.close()\n",
    "audio_file.close()"
   ]
  },
  {
   "cell_type": "markdown",
   "metadata": {},
   "source": [
    "Assuming we store bitstring in the .ex2 file, we have created our new file 8bits_Sound1_Enc_k4.ex2, which holds the encoded values when K = 4."
   ]
  },
  {
   "cell_type": "markdown",
   "metadata": {},
   "source": [
    "# Decoding file"
   ]
  },
  {
   "cell_type": "code",
   "execution_count": 5,
   "metadata": {},
   "outputs": [],
   "source": [
    "# open encoded file to decode\n",
    "encodedfile = open(\"Sound1_Enc_k4.ex2\", \"r\")\n",
    "K = 4\n",
    "# creating a bytearray variable\n",
    "newbytes = bytearray()\n",
    "\n",
    "# decoding process and storing the decoded values into the bytearray\n",
    "for line in encodedfile:\n",
    "    if line != '\\n':\n",
    "        decoded = decode(line, K)\n",
    "        newbytes.append(int(decoded))\n",
    "\n",
    "# close file\n",
    "encodedfile.close()\n",
    "inbytes = bytes(newbytes)"
   ]
  },
  {
   "cell_type": "markdown",
   "metadata": {},
   "source": [
    "Now that we have decoded the values in our encode file, we append each value to a bytearray, which we will then convert it to bytes, as bytearray is mutable while bytes is immutable. We use this method of conversion as bytes is the datatype required to write the new encoded_decoded wav file."
   ]
  },
  {
   "cell_type": "markdown",
   "metadata": {},
   "source": [
    "# Saving to new .wav file"
   ]
  },
  {
   "cell_type": "code",
   "execution_count": 6,
   "metadata": {},
   "outputs": [],
   "source": [
    "# open original wav file and new enc_dec wav file\n",
    "audio_file = wave.open(\"Sound1.wav\", mode=\"rb\")\n",
    "newWav = wave.open('Sound1_Enc_Dec_k4.wav', \"wb\")\n",
    "\n",
    "# write bytes and set params for the new wav file\n",
    "newWav.setparams(audio_file.getparams())\n",
    "newWav.writeframes(inbytes)\n",
    "\n",
    "# close files\n",
    "newWav.close()\n",
    "audio_file.close()"
   ]
  },
  {
   "cell_type": "markdown",
   "metadata": {},
   "source": [
    "# Checking the files are the same"
   ]
  },
  {
   "cell_type": "code",
   "execution_count": 7,
   "metadata": {},
   "outputs": [
    {
     "name": "stdout",
     "output_type": "stream",
     "text": [
      "Sample rate: 44100\n",
      "Channels: 1\n",
      "Subtype: PCM_16\n",
      "(501022,)\n",
      "[-7 -7 -7 ...  0  2  1]\n"
     ]
    }
   ],
   "source": [
    "import numpy as np\n",
    "import soundfile as sf\n",
    "\n",
    "wave_file = sf.SoundFile('Sound1_Enc_Dec_k4.wav')\n",
    "print('Sample rate: {}'.format(wave_file.samplerate))\n",
    "print('Channels: {}'.format(wave_file.channels))\n",
    "print('Subtype: {}'.format(wave_file.subtype))\n",
    "\n",
    "s1k4samples, fs = sf.read('Sound1_Enc_Dec_k4.wav', dtype='int16')\n",
    "\n",
    "print(np.shape(s1k4samples))\n",
    "print(s1k4samples)"
   ]
  },
  {
   "cell_type": "code",
   "execution_count": 8,
   "metadata": {},
   "outputs": [
    {
     "name": "stdout",
     "output_type": "stream",
     "text": [
      "Data is the same\n"
     ]
    }
   ],
   "source": [
    "if frames == inbytes:\n",
    "    print(\"Data is the same\")"
   ]
  },
  {
   "cell_type": "markdown",
   "metadata": {},
   "source": [
    "As can be seen above, our Enc_Dec file has the **same data** as well as **file size** as the original. Thus, we have achieved this method of lossless data compression."
   ]
  },
  {
   "cell_type": "markdown",
   "metadata": {},
   "source": [
    "# % Compression"
   ]
  },
  {
   "cell_type": "markdown",
   "metadata": {},
   "source": [
    "In terms of file size, we can calculate the compression rate by comparing the original file size with the encoded file size. The compression rate will thus be calculated as such: \n",
    "\n",
    "12MB (encoded file size) / 1MB (original file size) * 100 = 1200%"
   ]
  },
  {
   "cell_type": "markdown",
   "metadata": {},
   "source": [
    "## K = 2"
   ]
  },
  {
   "cell_type": "code",
   "execution_count": 9,
   "metadata": {},
   "outputs": [
    {
     "name": "stdout",
     "output_type": "stream",
     "text": [
      "End of write\n"
     ]
    }
   ],
   "source": [
    "import wave\n",
    "\n",
    "# open wav file to read frames\n",
    "audio_file = wave.open(\"Sound1.wav\", mode=\"rb\")\n",
    "frames = audio_file.readframes(audio_file.getnframes())\n",
    "\n",
    "# open file to write encoded bits into\n",
    "newfile = open(\"Sound1_Enc_k2.ex2\", \"w\")\n",
    "K = 2\n",
    "\n",
    "for i in range(len(frames)):\n",
    "    encoded = encode(frames[i], K)\n",
    "    newfile.write(encoded + \"\\n\")\n",
    "print('End of write')\n",
    "\n",
    "# close files\n",
    "newfile.close()\n",
    "audio_file.close()"
   ]
  },
  {
   "cell_type": "markdown",
   "metadata": {},
   "source": [
    "Assuming we store bitstring in the .ex2 file, we have created our new file 8bits_Sound1_Enc_k2.ex2, which holds the encoded values when K = 2."
   ]
  },
  {
   "cell_type": "markdown",
   "metadata": {},
   "source": [
    "# Decoding with Sound1.wav"
   ]
  },
  {
   "cell_type": "code",
   "execution_count": 10,
   "metadata": {},
   "outputs": [],
   "source": [
    "# open encoded file to decode\n",
    "encodedfile = open(\"Sound1_Enc_k2.ex2\", \"r\")\n",
    "K = 2\n",
    "# creating a bytearray variable\n",
    "newbytes = bytearray()\n",
    "\n",
    "# decoding process and storing the decoded values into the bytearray\n",
    "for line in encodedfile:\n",
    "    if line != '\\n':\n",
    "        decoded = decode(line, K)\n",
    "        newbytes.append(int(decoded))\n",
    "\n",
    "# close file\n",
    "encodedfile.close()\n",
    "inbytes = bytes(newbytes)"
   ]
  },
  {
   "cell_type": "markdown",
   "metadata": {},
   "source": [
    "Now that we have decoded the values in our encode file, we append each value to a bytearray, which we will then convert it to bytes, as it is the datatype required to write the new encoded_decoded wav file."
   ]
  },
  {
   "cell_type": "markdown",
   "metadata": {},
   "source": [
    "# Saving to new .wav file"
   ]
  },
  {
   "cell_type": "code",
   "execution_count": 11,
   "metadata": {},
   "outputs": [],
   "source": [
    "# open original wav file and new enc_dec wav file\n",
    "audio_file = wave.open(\"Sound1.wav\", mode=\"rb\")\n",
    "newWav = wave.open('Sound1_Enc_Dec_k2.wav', \"wb\")\n",
    "\n",
    "# write bytes and set params for the new wav file\n",
    "newWav.setparams(audio_file.getparams())\n",
    "newWav.writeframes(inbytes)\n",
    "\n",
    "# close files\n",
    "newWav.close()\n",
    "audio_file.close()"
   ]
  },
  {
   "cell_type": "markdown",
   "metadata": {},
   "source": [
    "# Checking the files are the same"
   ]
  },
  {
   "cell_type": "code",
   "execution_count": 12,
   "metadata": {},
   "outputs": [
    {
     "name": "stdout",
     "output_type": "stream",
     "text": [
      "Sample rate: 44100\n",
      "Channels: 1\n",
      "Subtype: PCM_16\n",
      "(501022,)\n",
      "[-7 -7 -7 ...  0  2  1]\n"
     ]
    }
   ],
   "source": [
    "import numpy as np\n",
    "import soundfile as sf\n",
    "\n",
    "wave_file = sf.SoundFile('Sound1_Enc_Dec_k2.wav')\n",
    "print('Sample rate: {}'.format(wave_file.samplerate))\n",
    "print('Channels: {}'.format(wave_file.channels))\n",
    "print('Subtype: {}'.format(wave_file.subtype))\n",
    "\n",
    "s1k2samples, fs = sf.read('Sound1_Enc_Dec_k2.wav', dtype='int16')\n",
    "\n",
    "print(np.shape(s1k2samples))\n",
    "print(s1k2samples)"
   ]
  },
  {
   "cell_type": "code",
   "execution_count": 13,
   "metadata": {},
   "outputs": [
    {
     "name": "stdout",
     "output_type": "stream",
     "text": [
      "Data is the same\n"
     ]
    }
   ],
   "source": [
    "if frames == inbytes:\n",
    "    print(\"Data is the same\")"
   ]
  },
  {
   "cell_type": "markdown",
   "metadata": {},
   "source": [
    "As can be seen above, our Enc_Dec file has the **same data** as well as **file size** as the original. Thus, we have achieved this method of lossless data compression."
   ]
  },
  {
   "cell_type": "markdown",
   "metadata": {},
   "source": [
    "# % Compression"
   ]
  },
  {
   "cell_type": "markdown",
   "metadata": {},
   "source": [
    "In terms of file size, we can calculate the compression rate by comparing the original file size with the encoded file size. The compression rate will thus be calculated as such: \n",
    "\n",
    "33.4MB (encoded file size) / 1MB (original file size) * 100 = 3340%"
   ]
  },
  {
   "cell_type": "markdown",
   "metadata": {},
   "source": [
    "Then, we do the whole of the same process for Sound2.wav file, where we set K = 4 and K = 2."
   ]
  },
  {
   "cell_type": "markdown",
   "metadata": {},
   "source": [
    "# Information about Sound2.wav"
   ]
  },
  {
   "cell_type": "code",
   "execution_count": 14,
   "metadata": {},
   "outputs": [
    {
     "name": "stdout",
     "output_type": "stream",
     "text": [
      "Sample rate: 44100\n",
      "Channels: 1\n",
      "Subtype: PCM_16\n",
      "(504000,)\n",
      "[ -999   886 -1325 ...    31  -876   339]\n"
     ]
    }
   ],
   "source": [
    "import numpy as np\n",
    "import soundfile as sf\n",
    "\n",
    "wave_file = sf.SoundFile('Sound2.wav')\n",
    "print('Sample rate: {}'.format(wave_file.samplerate))\n",
    "print('Channels: {}'.format(wave_file.channels))\n",
    "print('Subtype: {}'.format(wave_file.subtype))\n",
    "\n",
    "s2samples, fs = sf.read('Sound2.wav', dtype='int16')\n",
    "\n",
    "print(np.shape(s2samples))\n",
    "print(s2samples)"
   ]
  },
  {
   "cell_type": "markdown",
   "metadata": {},
   "source": [
    "Here, we have extracted information about Sound2.wav.\n",
    "Its sample rate is 44100Hz, it has 1 channel, and its in 16 bits, much like Sound1.wav, only the samples are different in values.\n",
    "However, since 16 bits is too large, the compression rate will be very high, since the samples consists of negative values. Thus, we can instead read n frames and rice encode those into the .ex2 file, which will also achieve lossless compression and generate a lower compression rate since the each frame will be a value between 0 and 255. "
   ]
  },
  {
   "cell_type": "markdown",
   "metadata": {},
   "source": [
    "# Encoding with Sound2.wav"
   ]
  },
  {
   "cell_type": "markdown",
   "metadata": {},
   "source": [
    "## K = 4"
   ]
  },
  {
   "cell_type": "code",
   "execution_count": 15,
   "metadata": {},
   "outputs": [
    {
     "name": "stdout",
     "output_type": "stream",
     "text": [
      "End of write\n"
     ]
    }
   ],
   "source": [
    "import wave\n",
    "\n",
    "# opens wav file to read frames\n",
    "audio_file = wave.open(\"Sound2.wav\", mode=\"rb\")\n",
    "frames = audio_file.readframes(audio_file.getnframes())\n",
    "\n",
    "# open file to write encoded bits into\n",
    "newfile = open(\"Sound2_Enc_k4.ex2\", \"w\")\n",
    "K = 4\n",
    "\n",
    "for i in range(len(frames)):\n",
    "    encoded = encode(frames[i], K)\n",
    "    newfile.write(encoded + \"\\n\")\n",
    "print('End of write')\n",
    "\n",
    "# close files\n",
    "newfile.close()\n",
    "audio_file.close()"
   ]
  },
  {
   "cell_type": "markdown",
   "metadata": {},
   "source": [
    "Assuming we store bitstring in the .ex2 file, we have created our new file 8bits_Sound2_Enc_k4.ex2, which holds the encoded values when K = 4."
   ]
  },
  {
   "cell_type": "markdown",
   "metadata": {},
   "source": [
    "# Decoding with Sound2.wav"
   ]
  },
  {
   "cell_type": "code",
   "execution_count": 16,
   "metadata": {},
   "outputs": [],
   "source": [
    "encodedfile = open(\"Sound2_Enc_k4.ex2\", \"r\")\n",
    "K = 4\n",
    "newbytes = bytearray()\n",
    "for line in encodedfile:\n",
    "    if line != '\\n':\n",
    "        decoded = decode(line, K)\n",
    "        newbytes.append(int(decoded))\n",
    "\n",
    "# close file\n",
    "encodedfile.close()\n",
    "inbytes = bytes(newbytes)"
   ]
  },
  {
   "cell_type": "markdown",
   "metadata": {},
   "source": [
    "Now that we have decoded the values in our encode file, we append each value to a bytearray, which we will then convert it to bytes, as it is the datatype required to write the new encoded_decoded wav file."
   ]
  },
  {
   "cell_type": "markdown",
   "metadata": {},
   "source": [
    "# Saving to new .wav file"
   ]
  },
  {
   "cell_type": "code",
   "execution_count": 17,
   "metadata": {},
   "outputs": [],
   "source": [
    "audio_file = wave.open(\"Sound2.wav\", mode=\"rb\")\n",
    "newWav = wave.open('Sound2_Enc_Dec_k4.wav', 'wb')\n",
    "\n",
    "newWav.setparams(audio_file.getparams())\n",
    "newWav.writeframes(inbytes)\n",
    "newWav.close()\n",
    "audio_file.close()"
   ]
  },
  {
   "cell_type": "markdown",
   "metadata": {},
   "source": [
    "# Checking the files are the same"
   ]
  },
  {
   "cell_type": "code",
   "execution_count": 18,
   "metadata": {},
   "outputs": [
    {
     "name": "stdout",
     "output_type": "stream",
     "text": [
      "Sample rate: 44100\n",
      "Channels: 1\n",
      "Subtype: PCM_16\n",
      "(504000,)\n",
      "[ -999   886 -1325 ...    31  -876   339]\n"
     ]
    }
   ],
   "source": [
    "import numpy as np\n",
    "import soundfile as sf\n",
    "\n",
    "wave_file = sf.SoundFile('Sound2_Enc_Dec_k4.wav')\n",
    "print('Sample rate: {}'.format(wave_file.samplerate))\n",
    "print('Channels: {}'.format(wave_file.channels))\n",
    "print('Subtype: {}'.format(wave_file.subtype))\n",
    "\n",
    "s2k4samples, fs = sf.read('Sound2_Enc_Dec_k4.wav', dtype='int16')\n",
    "\n",
    "print(np.shape(s2k4samples))\n",
    "print(s2k4samples)"
   ]
  },
  {
   "cell_type": "code",
   "execution_count": 19,
   "metadata": {},
   "outputs": [
    {
     "name": "stdout",
     "output_type": "stream",
     "text": [
      "Data is the same\n"
     ]
    }
   ],
   "source": [
    "if frames == inbytes:\n",
    "    print(\"Data is the same\")"
   ]
  },
  {
   "cell_type": "markdown",
   "metadata": {},
   "source": [
    "# % Compression"
   ]
  },
  {
   "cell_type": "markdown",
   "metadata": {},
   "source": [
    "In terms of file size, we can calculate the compression rate by comparing the original file size with the encoded file size. The compression rate will thus be calculated as such: \n",
    "\n",
    "12.7MB (encoded file size) / 1.01MB (original file size) * 100 = 1257%"
   ]
  },
  {
   "cell_type": "markdown",
   "metadata": {},
   "source": [
    "## K = 2"
   ]
  },
  {
   "cell_type": "code",
   "execution_count": 20,
   "metadata": {},
   "outputs": [
    {
     "name": "stdout",
     "output_type": "stream",
     "text": [
      "End of write\n"
     ]
    }
   ],
   "source": [
    "import wave\n",
    "\n",
    "# opens wav file to read frames\n",
    "audio_file = wave.open(\"Sound2.wav\", mode=\"rb\")\n",
    "frames = audio_file.readframes(audio_file.getnframes())\n",
    "\n",
    "# open file to write encoded bits into\n",
    "newfile = open(\"Sound2_Enc_k2.ex2\", \"w\")\n",
    "K = 2\n",
    "\n",
    "for i in range(len(frames)):\n",
    "    encoded = encode(frames[i], K)\n",
    "    newfile.write(encoded + \"\\n\")\n",
    "print('End of write')\n",
    "\n",
    "# close files\n",
    "newfile.close()\n",
    "audio_file.close()"
   ]
  },
  {
   "cell_type": "markdown",
   "metadata": {},
   "source": [
    "Assuming we store bitstring in the .ex2 file, we have created our new file 8bits_Sound2_Enc_k2.ex2, which holds the encoded values when K = 2."
   ]
  },
  {
   "cell_type": "markdown",
   "metadata": {},
   "source": [
    "# Decoding with Sound2.wav"
   ]
  },
  {
   "cell_type": "code",
   "execution_count": 21,
   "metadata": {},
   "outputs": [],
   "source": [
    "encodedfile = open(\"Sound2_Enc_k2.ex2\", \"r\")\n",
    "K = 2\n",
    "newbytes = bytearray()\n",
    "for line in encodedfile:\n",
    "    if line != '\\n':\n",
    "        decoded = decode(line, K)\n",
    "        newbytes.append(int(decoded))\n",
    "\n",
    "# close file\n",
    "encodedfile.close()\n",
    "inbytes = bytes(newbytes)"
   ]
  },
  {
   "cell_type": "markdown",
   "metadata": {},
   "source": [
    "Now that we have decoded the values in our encode file, we append each value to a bytearray, which we will then convert it to bytes, as it is the datatype required to write the new encoded_decoded wav file."
   ]
  },
  {
   "cell_type": "markdown",
   "metadata": {},
   "source": [
    "# Saving to new .wav file"
   ]
  },
  {
   "cell_type": "code",
   "execution_count": 22,
   "metadata": {},
   "outputs": [],
   "source": [
    "audio_file = wave.open(\"Sound2.wav\", mode=\"rb\")\n",
    "newWav = wave.open('Sound2_Enc_Dec_k2.wav', 'wb')\n",
    "\n",
    "newWav.setparams(audio_file.getparams())\n",
    "newWav.writeframes(inbytes)\n",
    "newWav.close()\n",
    "audio_file.close()"
   ]
  },
  {
   "cell_type": "markdown",
   "metadata": {},
   "source": [
    "# Checking the files are the same"
   ]
  },
  {
   "cell_type": "code",
   "execution_count": 23,
   "metadata": {},
   "outputs": [
    {
     "name": "stdout",
     "output_type": "stream",
     "text": [
      "Sample rate: 44100\n",
      "Channels: 1\n",
      "Subtype: PCM_16\n",
      "(504000,)\n",
      "[ -999   886 -1325 ...    31  -876   339]\n"
     ]
    }
   ],
   "source": [
    "import numpy as np\n",
    "import soundfile as sf\n",
    "\n",
    "wave_file = sf.SoundFile('Sound2_Enc_Dec_k2.wav')\n",
    "print('Sample rate: {}'.format(wave_file.samplerate))\n",
    "print('Channels: {}'.format(wave_file.channels))\n",
    "print('Subtype: {}'.format(wave_file.subtype))\n",
    "\n",
    "s2k2samples, fs = sf.read('Sound2_Enc_Dec_k2.wav', dtype='int16')\n",
    "\n",
    "print(np.shape(s2k2samples))\n",
    "print(s2k2samples)"
   ]
  },
  {
   "cell_type": "code",
   "execution_count": 24,
   "metadata": {},
   "outputs": [
    {
     "name": "stdout",
     "output_type": "stream",
     "text": [
      "Data is the same\n"
     ]
    }
   ],
   "source": [
    "if frames == inbytes:\n",
    "    print(\"Data is the same\")"
   ]
  },
  {
   "cell_type": "markdown",
   "metadata": {},
   "source": [
    "# % Compression"
   ]
  },
  {
   "cell_type": "markdown",
   "metadata": {},
   "source": [
    "In terms of file size, we can calculate the compression rate by comparing the original file size with the encoded file size. The compression rate will thus be calculated as such: \n",
    "\n",
    "35.3MB (encoded file size) / 1.01MB (original file size) * 100 = 3495%"
   ]
  },
  {
   "cell_type": "markdown",
   "metadata": {},
   "source": [
    "# Further Development"
   ]
  },
  {
   "cell_type": "markdown",
   "metadata": {},
   "source": [
    "A way to improve the compression rate is to perhaps set a larger K value, reduce the range of samples, or saving the file in a different way."
   ]
  },
  {
   "cell_type": "markdown",
   "metadata": {},
   "source": [
    "### 1. Larger K"
   ]
  },
  {
   "cell_type": "markdown",
   "metadata": {},
   "source": [
    "Since Sound2.wav produces a larger compression % than Sound1.wav, we can simply test the extent of our way to reduce the compression % only on Sound2.wav."
   ]
  },
  {
   "cell_type": "markdown",
   "metadata": {},
   "source": [
    "#### Sound2.wav (K = 6)"
   ]
  },
  {
   "cell_type": "code",
   "execution_count": 25,
   "metadata": {},
   "outputs": [
    {
     "name": "stdout",
     "output_type": "stream",
     "text": [
      "End of write\n"
     ]
    }
   ],
   "source": [
    "import wave\n",
    "\n",
    "# opens wav file to read frames\n",
    "audio_file = wave.open(\"Sound2.wav\", mode=\"rb\")\n",
    "frames = audio_file.readframes(audio_file.getnframes())\n",
    "\n",
    "# open file to write encoded bits into\n",
    "newfile = open(\"Sound2_Enc_k6.ex2\", \"w\")\n",
    "K = 6\n",
    "\n",
    "for i in range(len(frames)):\n",
    "    encoded = encode(frames[i], K)\n",
    "    newfile.write(encoded + \"\\n\")\n",
    "print('End of write')\n",
    "\n",
    "# close files\n",
    "newfile.close()\n",
    "audio_file.close()"
   ]
  },
  {
   "cell_type": "markdown",
   "metadata": {},
   "source": [
    "Here, we can see that the compression % has been significantly reduced! From when K = 2 and K = 4, the compression % were more than 1000%. Now when we use K = 6, compression % reduced to 800%. In terms of file size, compression % is 8.48/1.01*100=839%. Let us try a higher K value of 8."
   ]
  },
  {
   "cell_type": "markdown",
   "metadata": {},
   "source": [
    "#### Sound2.wav (K = 8)"
   ]
  },
  {
   "cell_type": "code",
   "execution_count": 26,
   "metadata": {},
   "outputs": [
    {
     "name": "stdout",
     "output_type": "stream",
     "text": [
      "End of write\n"
     ]
    }
   ],
   "source": [
    "import wave\n",
    "\n",
    "# opens wav file to read frames\n",
    "audio_file = wave.open(\"Sound2.wav\", mode=\"rb\")\n",
    "frames = audio_file.readframes(audio_file.getnframes())\n",
    "\n",
    "# open file to write encoded bits into\n",
    "newfile = open(\"Sound2_Enc_k8.ex2\", \"w\")\n",
    "K = 8\n",
    "\n",
    "for i in range(len(frames)):\n",
    "    encoded = encode(frames[i], K)\n",
    "    newfile.write(encoded + \"\\n\")\n",
    "print('End of write')\n",
    "\n",
    "# close files\n",
    "newfile.close()\n",
    "audio_file.close()"
   ]
  },
  {
   "cell_type": "markdown",
   "metadata": {},
   "source": [
    "Here, we can see that the compression % has been significantly reduced! From when K = 2 and K = 4, the compression % were more than 1000%. Now when we use K = 8, compression % reduced to 800%. In terms of file size, compression % is 8.56/1.01*100=847%. \n",
    "This shows that this method of improving the compression rates is successful. However, it is important to note that for every sound file, the optimal K value is different. It may seem that having a larger K value reduces the compression rate, however, as can be seen here, if we compare K = 6 and K = 8, K = 6 suits Sound2.wav more than when K = 8. This idea can be further explained and proven with the codes below."
   ]
  },
  {
   "cell_type": "markdown",
   "metadata": {},
   "source": [
    "#### Sound1.wav (K = 6)"
   ]
  },
  {
   "cell_type": "code",
   "execution_count": 27,
   "metadata": {},
   "outputs": [
    {
     "name": "stdout",
     "output_type": "stream",
     "text": [
      "End of write\n"
     ]
    }
   ],
   "source": [
    "import wave\n",
    "\n",
    "# opens wav file to read frames\n",
    "audio_file = wave.open(\"Sound1.wav\", mode=\"rb\")\n",
    "frames = audio_file.readframes(audio_file.getnframes())\n",
    "\n",
    "# open file to write encoded bits into\n",
    "newfile = open(\"Sound1_Enc_k6.ex2\", \"w\")\n",
    "K = 6\n",
    "\n",
    "for i in range(len(frames)):\n",
    "    encoded = encode(frames[i], K)\n",
    "    newfile.write(encoded + \"\\n\")\n",
    "print('End of write')\n",
    "\n",
    "# close files\n",
    "newfile.close()\n",
    "audio_file.close()"
   ]
  },
  {
   "cell_type": "markdown",
   "metadata": {},
   "source": [
    "Here, we can see that the compression % has been significantly reduced! From when K = 2 and K = 4, the compression % were more than 1000%. Now when we use K = 6, compression % reduced to 700%. In terms of file size, compression % is 7.59/1.01*100=759%. Let us try a higher K value of 8."
   ]
  },
  {
   "cell_type": "markdown",
   "metadata": {},
   "source": [
    "#### Sound1.wav (K = 8)"
   ]
  },
  {
   "cell_type": "code",
   "execution_count": 28,
   "metadata": {},
   "outputs": [
    {
     "name": "stdout",
     "output_type": "stream",
     "text": [
      "End of write\n"
     ]
    }
   ],
   "source": [
    "import wave\n",
    "\n",
    "# opens wav file to read frames\n",
    "audio_file = wave.open(\"Sound1.wav\", mode=\"rb\")\n",
    "frames = audio_file.readframes(audio_file.getnframes())\n",
    "\n",
    "# open file to write encoded bits into\n",
    "newfile = open(\"Sound1_Enc_k8.ex2\", \"w\")\n",
    "K = 8\n",
    "\n",
    "for i in range(len(frames)):\n",
    "    encoded = encode(frames[i], K)\n",
    "    newfile.write(encoded + \"\\n\")\n",
    "print('End of write')\n",
    "\n",
    "# close files\n",
    "newfile.close()\n",
    "audio_file.close()"
   ]
  },
  {
   "cell_type": "markdown",
   "metadata": {},
   "source": [
    "Here, we can see that the compression % has been significantly reduced! From when K = 2 and K = 4, the compression % were more than 1000%. Now when we use K = 8, compression % reduced to 700%. In terms of file size, compression % is 7.4/1.01*100=740%. \n",
    "This proves our point that this method of improving the compression rates is successful and that for every sound file, the optimal K value is different, as proven with Sound1.wav having an optimal value of K = 8 (or maybe higher) and Sound2.wav being K = 6. "
   ]
  },
  {
   "cell_type": "markdown",
   "metadata": {},
   "source": [
    "### 2. Reducing range of samples"
   ]
  },
  {
   "cell_type": "markdown",
   "metadata": {},
   "source": [
    "This will not be implemented in code due to the insufficient syllabus coverage but the theory of the idea behind it will be explained."
   ]
  },
  {
   "cell_type": "markdown",
   "metadata": {},
   "source": [
    "Rice coding was originally known as residual coding, which is used to compress the residuals. Residuals are the errors between the predictions of the model and the real signal. Thus, to implement this, a prediction algorithm has to be implemented to get the list of residuals, for example, a linear predictor. The residuals will thus be smaller than the original sample so it can be encoded with less bits, not as high as 2000. The compression rate will thus be improved to be significantly less than the original file."
   ]
  },
  {
   "cell_type": "markdown",
   "metadata": {},
   "source": [
    "Low compression rate can be achieved if the following measures have been fully or partially taken:\n",
    "- Apply Rice encoding to residuals (instead of audio samples directly)\n",
    "- Scale down audio samples before applying Rice encoding"
   ]
  },
  {
   "cell_type": "markdown",
   "metadata": {},
   "source": [
    "### 3. Saving file"
   ]
  },
  {
   "cell_type": "markdown",
   "metadata": {},
   "source": [
    "If we are concerned with compressing the file size, since the data was saved as bitstring, we can try to save it in bytes instead to get a smaller file. However, to be saved in bytes, the encoded bitstring must first be converted to integers. This makes the rice encoding redundant, as well as increases the time complexity of the application, as the data can directly be converted into bytes, or they are already in bytes. Thus, a better alternative would be to use residual coding with an appropriate algorithm to predict, or compress audio using other file formats such as flac."
   ]
  }
 ],
 "metadata": {
  "kernelspec": {
   "display_name": "Python 3",
   "language": "python",
   "name": "python3"
  },
  "language_info": {
   "codemirror_mode": {
    "name": "ipython",
    "version": 3
   },
   "file_extension": ".py",
   "mimetype": "text/x-python",
   "name": "python",
   "nbconvert_exporter": "python",
   "pygments_lexer": "ipython3",
   "version": "3.7.6"
  }
 },
 "nbformat": 4,
 "nbformat_minor": 4
}
