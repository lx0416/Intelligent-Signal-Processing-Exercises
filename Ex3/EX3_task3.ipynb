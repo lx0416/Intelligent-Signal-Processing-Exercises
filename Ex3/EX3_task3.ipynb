{
 "cells": [
  {
   "cell_type": "code",
   "execution_count": 18,
   "id": "97d1a2d0",
   "metadata": {},
   "outputs": [],
   "source": [
    "import wave\n",
    "\n",
    "sf = wave.open(\"Ex3_sound5.wav\", mode='rb')\n",
    "origparams = sf.getparams()\n",
    "frames = sf.getnframes()\n",
    "frameRead = sf.readframes(frames)\n",
    "frameList = []\n",
    "frameList = frameRead\n",
    "#convert to bytearray\n",
    "frameBytes = bytearray(frameList)\n",
    "\n",
    "message = \"Father Christmas does not exist\"\n",
    "\n",
    "# add fake values to fill up missing bytes\n",
    "modmsg = len(message)*8*8\n",
    "offset = len(frameBytes) - modmsg\n",
    "finallen = int(offset/8)\n",
    "message = message + finallen *'#'\n",
    "\n",
    "# convert str to list\n",
    "temp = []\n",
    "for i in message:\n",
    "    unc = ord(i)\n",
    "    binstr = bin(unc)\n",
    "    stripped = binstr.lstrip('0b')\n",
    "    final = stripped.rjust(8,'0')\n",
    "    temp.append(final)\n",
    "\n",
    "string = \"\".join(temp)\n",
    "mappedstr = map(int,string)\n",
    "bits = list(mappedstr)\n",
    "\n",
    "# for each byte, replace LSB by 1 bit\n",
    "for i, bit in enumerate(bits):\n",
    "    modbyte = frameBytes[i] & 254\n",
    "    frameBytes[i] = modbyte | bit\n",
    "\n",
    "newFrame = bytes(frameBytes)\n",
    "\n",
    "# insert hidden message\n",
    "with wave.open('Ex3_sound5.wav', 'wb') as msgIns:\n",
    "    msgIns.setparams(origparams)\n",
    "    msgIns.writeframes(newFrame)\n",
    "sf.close()"
   ]
  },
  {
   "cell_type": "code",
   "execution_count": 19,
   "id": "bf52b69d",
   "metadata": {},
   "outputs": [
    {
     "name": "stdout",
     "output_type": "stream",
     "text": [
      "Hidden message: Father Christmas does not exist\n"
     ]
    }
   ],
   "source": [
    "import wave\n",
    "\n",
    "sf = wave.open(\"Ex3_sound5.wav\", mode='rb')\n",
    "frames = sf.getnframes()\n",
    "frameRead = sf.readframes(frames)\n",
    "frameList = []\n",
    "frameList = frameRead\n",
    "frameBytes = bytearray(frameList)\n",
    "\n",
    "extractedList = []\n",
    "# for every byte, extract the LSB and append to extractedList\n",
    "for i in range(len(frameBytes)):\n",
    "    extractedList.append(frameBytes[i] & 1)\n",
    "\n",
    "temp = []\n",
    "# convert frameBytes to string using join method\n",
    "for j in range(0, len(extractedList), 8):\n",
    "    noisyList = extractedList[j:j+8]\n",
    "    mappedstr = map(str,noisyList)\n",
    "    joinint = int(\"\".join(mappedstr),2)\n",
    "    joinchr = chr(joinint)\n",
    "    temp.append(str(joinchr))\n",
    "string = \"\".join(temp)\n",
    "\n",
    "# filter string\n",
    "message = string.split(\"#\")[0]\n",
    "\n",
    "print(\"Hidden message: \" + message)\n",
    "sf.close()"
   ]
  },
  {
   "cell_type": "markdown",
   "id": "f61698ce",
   "metadata": {},
   "source": [
    "Reference: https://sumit-arora.medium.com/audio-steganography-the-art-of-hiding-secrets-within-earshot-part-2-of-2-c76b1be719b3"
   ]
  }
 ],
 "metadata": {
  "kernelspec": {
   "display_name": "Python 3 (ipykernel)",
   "language": "python",
   "name": "python3"
  },
  "language_info": {
   "codemirror_mode": {
    "name": "ipython",
    "version": 3
   },
   "file_extension": ".py",
   "mimetype": "text/x-python",
   "name": "python",
   "nbconvert_exporter": "python",
   "pygments_lexer": "ipython3",
   "version": "3.8.12"
  }
 },
 "nbformat": 4,
 "nbformat_minor": 5
}
