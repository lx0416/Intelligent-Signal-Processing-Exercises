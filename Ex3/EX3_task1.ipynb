{
 "cells": [
  {
   "cell_type": "code",
   "execution_count": 1,
   "id": "1ae715e0",
   "metadata": {},
   "outputs": [
    {
     "name": "stdout",
     "output_type": "stream",
     "text": [
      "Hidden message: Mom I will not be home for supper\n"
     ]
    }
   ],
   "source": [
    "import wave\n",
    "\n",
    "sf = wave.open(\"Ex3_sound1.wav\", mode='rb')\n",
    "frames = sf.getnframes()\n",
    "frameRead = sf.readframes(frames)\n",
    "frameList = []\n",
    "frameList = frameRead\n",
    "frameBytes = bytearray(frameList)\n",
    "\n",
    "extractedList = []\n",
    "# for every byte, extract the LSB and append to extractedList\n",
    "for i in range(len(frameBytes)):\n",
    "    extractedList.append(frameBytes[i] & 1)\n",
    "\n",
    "temp = []\n",
    "# convert frameBytes to string using join method\n",
    "for j in range(0, len(extractedList), 8):\n",
    "    noisyList = extractedList[j:j+8]\n",
    "    mappedstr = map(str,noisyList)\n",
    "    joinint = int(\"\".join(mappedstr),2)\n",
    "    joinchr = chr(joinint)\n",
    "    temp.append(str(joinchr))\n",
    "string = \"\".join(temp)\n",
    "\n",
    "# filter string\n",
    "message = string.split(\"#\")[0]\n",
    "\n",
    "print(\"Hidden message: \" + message)\n",
    "sf.close()"
   ]
  },
  {
   "cell_type": "markdown",
   "id": "0d02a8bd",
   "metadata": {},
   "source": [
    "Reference: https://sumit-arora.medium.com/audio-steganography-the-art-of-hiding-secrets-within-earshot-part-2-of-2-c76b1be719b3"
   ]
  }
 ],
 "metadata": {
  "kernelspec": {
   "display_name": "Python 3 (ipykernel)",
   "language": "python",
   "name": "python3"
  },
  "language_info": {
   "codemirror_mode": {
    "name": "ipython",
    "version": 3
   },
   "file_extension": ".py",
   "mimetype": "text/x-python",
   "name": "python",
   "nbconvert_exporter": "python",
   "pygments_lexer": "ipython3",
   "version": "3.8.12"
  }
 },
 "nbformat": 4,
 "nbformat_minor": 5
}
